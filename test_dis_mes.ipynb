{
 "cells": [
  {
   "cell_type": "code",
   "execution_count": 1,
   "id": "668bebc3",
   "metadata": {},
   "outputs": [],
   "source": [
    "import os\n",
    "import pandas as pd\n",
    "from shutil import copyfile\n",
    "import numpy as np\n",
    "import math\n",
    "from PIL import Image"
   ]
  },
  {
   "cell_type": "code",
   "execution_count": 2,
   "id": "bea9f650",
   "metadata": {},
   "outputs": [],
   "source": [
    "def parse_iml():\n",
    "    file_path = 'D:\\\\Distance Measurement\\\\images_tmatched.iml'\n",
    "    output_file_path = 'D:\\\\Distance Measurement\\\\images_tmatched.csv'\n",
    "    f_output = open(output_file_path, 'w')\n",
    "\n",
    "    with open(file_path, 'r') as file_object:\n",
    "        line = file_object.readline()\n",
    "        img_info = ''\n",
    "        while line:\n",
    "            \n",
    "            if line.find('Xyz=') != -1:\n",
    "                print(line)\n",
    "                img_info = img_info + ' ' + line\n",
    "                \n",
    "            if line.find('.jpg') != -1:\n",
    "                print(line)\n",
    "                img_info = process_img_info(img_info)\n",
    "                f_output.write(img_info)\n",
    "                img_info = line\n",
    "\n",
    "\n",
    "            line = file_object.readline().strip()\n",
    "\n",
    "    f_output.close()\n",
    "\n",
    "def process_img_info(img_info):\n",
    "    print(img_info)\n",
    "    img_info = img_info.replace('=', ' ')\n",
    "    img_info = img_info + '\\n'\n",
    "    a = 0\n",
    "    return img_info\n"
   ]
  },
  {
   "cell_type": "code",
   "execution_count": null,
   "id": "aa015f1b",
   "metadata": {},
   "outputs": [],
   "source": [
    "parse_iml()"
   ]
  },
  {
   "cell_type": "code",
   "execution_count": 127,
   "id": "6736f96d",
   "metadata": {},
   "outputs": [],
   "source": [
    "def select_img(sign_x, sign_y):\n",
    "\n",
    "    # yellow recctangle row 8\n",
    "    # sign_x = 135374.04\n",
    "    # sign_y = 399504.64\n",
    "    # red_triangle_downword\t135279.554\t399389.056\n",
    "    # sign_x = 135279.554\n",
    "    # sign_y = 399389.056\n",
    "\n",
    "    # red_circle_obstruction\t135470.324\t399679.618\n",
    "    # yellow_rectangle\t135381.225\t399535.479\n",
    "# red_triangle_downword\t135279.554\t399389.056\n",
    "# white_rectangle\t135283.862\t399401.01\n",
    "# inactive\t135137.17\t399106.46\n",
    "# red_circle_obstruction\t135189.919\t399199.926\n",
    "# yellow_rectangle\t135152.33\t399145.71\n",
    "\n",
    "\n",
    "\n",
    "    #sign_x = 135511.79\n",
    "    #sign_y = 399687.64\n",
    "\n",
    "    # blue_rectangle_speed_limit\t135179.94\t399169.1\n",
    "\n",
    "    src_dir = '\\\\\\\\192.168.0.5\\\\work\\\\Work\\\\prjdata\\\\AO34\\\\Panoramas'\n",
    "    dest_dir = 'D:\\\\Distance Measurement\\\\Panaromas'\n",
    "\n",
    "    iml_file_path = 'D:\\\\Distance Measurement\\\\images_tmatched2.csv'\n",
    "    df_iml = pd.read_csv(iml_file_path, delimiter=' ')\n",
    "\n",
    "    for index, row in df_iml.iterrows():\n",
    "        x = row['x']\n",
    "        y = row['y']\n",
    "        img_name = row['image_name']\n",
    "\n",
    "        if abs(sign_x -x) < 10 and abs(sign_y - y) < 10 and abs(sign_x -x) > 5 and abs(sign_y - y) > 5:\n",
    "            print(img_name)\n",
    "            src_file = os.path.join(src_dir, img_name)\n",
    "            dest_file = os.path.join(dest_dir, img_name)\n",
    "            copyfile(src_file, dest_file)\n",
    "\n",
    "\n",
    "        #b = 0\n",
    "    #a = 0"
   ]
  },
  {
   "cell_type": "code",
   "execution_count": 130,
   "id": "fea41b75",
   "metadata": {},
   "outputs": [],
   "source": [
    "sign_x, sign_y = 135377.885, 399511.688"
   ]
  },
  {
   "cell_type": "code",
   "execution_count": 131,
   "id": "d939d085",
   "metadata": {},
   "outputs": [
    {
     "name": "stdout",
     "output_type": "stream",
     "text": [
      "stream_00001-000000_00344_0000439.jpg\n",
      "stream_00003-000000_00294_0000849.jpg\n",
      "stream_00003-000000_00295_0000850.jpg\n",
      "stream_00003-000000_00296_0000851.jpg\n",
      "stream_00003-000000_00297_0000852.jpg\n",
      "stream_00003-000000_00298_0000853.jpg\n",
      "stream_00003-000000_00299_0000854.jpg\n"
     ]
    }
   ],
   "source": [
    "select_img(sign_x, sign_y)"
   ]
  },
  {
   "cell_type": "code",
   "execution_count": 1,
   "id": "3c850883",
   "metadata": {},
   "outputs": [],
   "source": [
    "iml_file_path = 'D:\\\\Distance Measurement\\\\images_tmatched2.csv'"
   ]
  },
  {
   "cell_type": "code",
   "execution_count": 16,
   "id": "efe4ffb7",
   "metadata": {},
   "outputs": [],
   "source": [
    "sign_csv_path = r'D:\\Distance Measurement\\street_sign_location.csv'"
   ]
  },
  {
   "cell_type": "code",
   "execution_count": 4,
   "id": "b8f55061",
   "metadata": {},
   "outputs": [],
   "source": [
    "df_iml = pd.read_csv(iml_file_path, delimiter=' ')"
   ]
  },
  {
   "cell_type": "code",
   "execution_count": 17,
   "id": "f78a7d40",
   "metadata": {},
   "outputs": [],
   "source": [
    "df_sign = pd.read_csv(sign_csv_path)"
   ]
  },
  {
   "cell_type": "code",
   "execution_count": 6,
   "id": "e9813959",
   "metadata": {},
   "outputs": [
    {
     "data": {
      "text/html": [
       "<div>\n",
       "<style scoped>\n",
       "    .dataframe tbody tr th:only-of-type {\n",
       "        vertical-align: middle;\n",
       "    }\n",
       "\n",
       "    .dataframe tbody tr th {\n",
       "        vertical-align: top;\n",
       "    }\n",
       "\n",
       "    .dataframe thead th {\n",
       "        text-align: right;\n",
       "    }\n",
       "</style>\n",
       "<table border=\"1\" class=\"dataframe\">\n",
       "  <thead>\n",
       "    <tr style=\"text-align: right;\">\n",
       "      <th></th>\n",
       "      <th>image</th>\n",
       "      <th>image_name</th>\n",
       "      <th>xyz</th>\n",
       "      <th>x</th>\n",
       "      <th>y</th>\n",
       "      <th>z</th>\n",
       "      <th>accuracyxyz</th>\n",
       "      <th>accuracy</th>\n",
       "      <th>Unnamed: 8</th>\n",
       "    </tr>\n",
       "  </thead>\n",
       "  <tbody>\n",
       "    <tr>\n",
       "      <th>0</th>\n",
       "      <td>Image</td>\n",
       "      <td>stream_00000-000000_00000_0000000.jpg</td>\n",
       "      <td>Xyz</td>\n",
       "      <td>134884.076</td>\n",
       "      <td>399072.561</td>\n",
       "      <td>15.876</td>\n",
       "      <td>AccuracyXyz</td>\n",
       "      <td>0.015</td>\n",
       "      <td>NaN</td>\n",
       "    </tr>\n",
       "    <tr>\n",
       "      <th>1</th>\n",
       "      <td>Image</td>\n",
       "      <td>stream_00000-000000_00001_0000001.jpg</td>\n",
       "      <td>Xyz</td>\n",
       "      <td>134884.352</td>\n",
       "      <td>399071.471</td>\n",
       "      <td>15.868</td>\n",
       "      <td>AccuracyXyz</td>\n",
       "      <td>0.015</td>\n",
       "      <td>NaN</td>\n",
       "    </tr>\n",
       "    <tr>\n",
       "      <th>2</th>\n",
       "      <td>Image</td>\n",
       "      <td>stream_00000-000000_00002_0000002.jpg</td>\n",
       "      <td>Xyz</td>\n",
       "      <td>134884.796</td>\n",
       "      <td>399070.559</td>\n",
       "      <td>15.865</td>\n",
       "      <td>AccuracyXyz</td>\n",
       "      <td>0.015</td>\n",
       "      <td>NaN</td>\n",
       "    </tr>\n",
       "    <tr>\n",
       "      <th>3</th>\n",
       "      <td>Image</td>\n",
       "      <td>stream_00000-000000_00003_0000003.jpg</td>\n",
       "      <td>Xyz</td>\n",
       "      <td>134885.212</td>\n",
       "      <td>399069.737</td>\n",
       "      <td>15.842</td>\n",
       "      <td>AccuracyXyz</td>\n",
       "      <td>0.015</td>\n",
       "      <td>NaN</td>\n",
       "    </tr>\n",
       "    <tr>\n",
       "      <th>4</th>\n",
       "      <td>Image</td>\n",
       "      <td>stream_00000-000000_00004_0000004.jpg</td>\n",
       "      <td>Xyz</td>\n",
       "      <td>134885.755</td>\n",
       "      <td>399069.032</td>\n",
       "      <td>15.835</td>\n",
       "      <td>AccuracyXyz</td>\n",
       "      <td>0.015</td>\n",
       "      <td>NaN</td>\n",
       "    </tr>\n",
       "  </tbody>\n",
       "</table>\n",
       "</div>"
      ],
      "text/plain": [
       "   image                             image_name  xyz           x           y  \\\n",
       "0  Image  stream_00000-000000_00000_0000000.jpg  Xyz  134884.076  399072.561   \n",
       "1  Image  stream_00000-000000_00001_0000001.jpg  Xyz  134884.352  399071.471   \n",
       "2  Image  stream_00000-000000_00002_0000002.jpg  Xyz  134884.796  399070.559   \n",
       "3  Image  stream_00000-000000_00003_0000003.jpg  Xyz  134885.212  399069.737   \n",
       "4  Image  stream_00000-000000_00004_0000004.jpg  Xyz  134885.755  399069.032   \n",
       "\n",
       "        z  accuracyxyz  accuracy  Unnamed: 8  \n",
       "0  15.876  AccuracyXyz     0.015         NaN  \n",
       "1  15.868  AccuracyXyz     0.015         NaN  \n",
       "2  15.865  AccuracyXyz     0.015         NaN  \n",
       "3  15.842  AccuracyXyz     0.015         NaN  \n",
       "4  15.835  AccuracyXyz     0.015         NaN  "
      ]
     },
     "execution_count": 6,
     "metadata": {},
     "output_type": "execute_result"
    }
   ],
   "source": [
    "df_iml.head()"
   ]
  },
  {
   "cell_type": "code",
   "execution_count": 19,
   "id": "b0521b98",
   "metadata": {},
   "outputs": [
    {
     "data": {
      "text/html": [
       "<div>\n",
       "<style scoped>\n",
       "    .dataframe tbody tr th:only-of-type {\n",
       "        vertical-align: middle;\n",
       "    }\n",
       "\n",
       "    .dataframe tbody tr th {\n",
       "        vertical-align: top;\n",
       "    }\n",
       "\n",
       "    .dataframe thead th {\n",
       "        text-align: right;\n",
       "    }\n",
       "</style>\n",
       "<table border=\"1\" class=\"dataframe\">\n",
       "  <thead>\n",
       "    <tr style=\"text-align: right;\">\n",
       "      <th></th>\n",
       "      <th>LAYER</th>\n",
       "      <th>x</th>\n",
       "      <th>y</th>\n",
       "    </tr>\n",
       "  </thead>\n",
       "  <tbody>\n",
       "    <tr>\n",
       "      <th>0</th>\n",
       "      <td>blue_rectangle_direction</td>\n",
       "      <td>135511.790</td>\n",
       "      <td>399687.640</td>\n",
       "    </tr>\n",
       "    <tr>\n",
       "      <th>1</th>\n",
       "      <td>blue_rectangle</td>\n",
       "      <td>135456.988</td>\n",
       "      <td>399616.634</td>\n",
       "    </tr>\n",
       "    <tr>\n",
       "      <th>2</th>\n",
       "      <td>blue_circle_cycle</td>\n",
       "      <td>135460.973</td>\n",
       "      <td>399696.037</td>\n",
       "    </tr>\n",
       "    <tr>\n",
       "      <th>3</th>\n",
       "      <td>blue_circle_inclined</td>\n",
       "      <td>135287.627</td>\n",
       "      <td>399377.245</td>\n",
       "    </tr>\n",
       "    <tr>\n",
       "      <th>4</th>\n",
       "      <td>blue_circle_inclined</td>\n",
       "      <td>135285.761</td>\n",
       "      <td>399373.625</td>\n",
       "    </tr>\n",
       "  </tbody>\n",
       "</table>\n",
       "</div>"
      ],
      "text/plain": [
       "                      LAYER           x           y\n",
       "0  blue_rectangle_direction  135511.790  399687.640\n",
       "1            blue_rectangle  135456.988  399616.634\n",
       "2         blue_circle_cycle  135460.973  399696.037\n",
       "3      blue_circle_inclined  135287.627  399377.245\n",
       "4      blue_circle_inclined  135285.761  399373.625"
      ]
     },
     "execution_count": 19,
     "metadata": {},
     "output_type": "execute_result"
    }
   ],
   "source": [
    "df_sign.head()"
   ]
  },
  {
   "cell_type": "code",
   "execution_count": 22,
   "id": "77b0e72c",
   "metadata": {},
   "outputs": [],
   "source": [
    "def get_sign_xval_yval(give_index):\n",
    "\n",
    "    for index, row in df_sign.iterrows():\n",
    "        if index == give_index:\n",
    "            x_val = df_sign['x'][index]\n",
    "            y_val = df_sign['y'][index]\n",
    "\n",
    "    print(x_val, y_val)\n",
    "    return x_val, y_val"
   ]
  },
  {
   "cell_type": "code",
   "execution_count": 15,
   "id": "f41f9c3c",
   "metadata": {},
   "outputs": [
    {
     "name": "stdout",
     "output_type": "stream",
     "text": [
      "134884.352\n"
     ]
    }
   ],
   "source": [
    "#img_name = 'stream_00000-000000_00001_0000001.jpg'\n",
    "def get_car_xval_yval(img_name):\n",
    "\n",
    "    index = 0\n",
    "\n",
    "    for i in df_iml['image_name']:\n",
    "        if i == img_name:\n",
    "            x_val = df_iml['x'][index]\n",
    "            y_val = df_iml['y'][index]\n",
    "\n",
    "        index +=1\n",
    "\n",
    "    print(x_val, y_val)\n",
    "    return x_val, y_val"
   ]
  },
  {
   "cell_type": "code",
   "execution_count": null,
   "id": "7e94682c",
   "metadata": {},
   "outputs": [],
   "source": [
    " for index, row in df_iml.iterrows():\n",
    "        x = row['x']\n",
    "        y = row['y']\n",
    "        img_name = row['image_name']"
   ]
  },
  {
   "cell_type": "code",
   "execution_count": null,
   "id": "e6c691dd",
   "metadata": {},
   "outputs": [],
   "source": [
    "x"
   ]
  },
  {
   "cell_type": "code",
   "execution_count": null,
   "id": "6c9d0e47",
   "metadata": {},
   "outputs": [],
   "source": [
    "select_img()"
   ]
  },
  {
   "cell_type": "code",
   "execution_count": null,
   "id": "bbe297ae",
   "metadata": {},
   "outputs": [],
   "source": [
    "src_dir = '\\\\\\\\192.168.0.5\\\\work\\\\Work\\\\prjdata\\\\AO34\\\\Panoramas'"
   ]
  },
  {
   "cell_type": "code",
   "execution_count": null,
   "id": "f0777d6d",
   "metadata": {},
   "outputs": [],
   "source": [
    "for i in os.listdir(src_dir):\n",
    "    print(i)"
   ]
  },
  {
   "cell_type": "code",
   "execution_count": 82,
   "id": "4d2baa5b",
   "metadata": {},
   "outputs": [],
   "source": [
    "import numpy as np\n",
    "import cv2 as cv\n",
    "from matplotlib import pyplot as plt"
   ]
  },
  {
   "cell_type": "code",
   "execution_count": 12,
   "id": "fc61d587",
   "metadata": {},
   "outputs": [
    {
     "data": {
      "image/png": "[encoded data removed]",
      "text/plain": [
       "<Figure size 432x288 with 1 Axes>"
      ]
     },
     "metadata": {
      "needs_background": "light"
     },
     "output_type": "display_data"
    }
   ],
   "source": [
    "imgL = cv.imread(r'D:\\Distance Measurement\\Panaromas\\stream_00006-000000_00096_0002405.jpg',0)\n",
    "imgR = cv.imread(r'D:\\Distance Measurement\\Panaromas\\stream_00006-000000_00097_0002406.jpg',0)\n",
    "stereo = cv.StereoBM_create(numDisparities=64, blockSize=5)\n",
    "disparity = stereo.compute(imgL,imgR)\n",
    "cv.imwrite('disparity1.jpg', disparity)\n",
    "plt.imshow(disparity,'gray')\n",
    "plt.show()"
   ]
  },
  {
   "cell_type": "code",
   "execution_count": 25,
   "id": "c52de11e",
   "metadata": {},
   "outputs": [
    {
     "data": {
      "text/plain": [
       "array([[-16, -16, -16, ..., -16, -16, -16],\n",
       "       [-16, -16, -16, ..., -16, -16, -16],\n",
       "       [-16, -16, -16, ..., -16, -16, -16],\n",
       "       ...,\n",
       "       [-16, -16, -16, ..., -16, -16, -16],\n",
       "       [-16, -16, -16, ..., -16, -16, -16],\n",
       "       [-16, -16, -16, ..., -16, -16, -16]], dtype=int16)"
      ]
     },
     "execution_count": 25,
     "metadata": {},
     "output_type": "execute_result"
    }
   ],
   "source": [
    "disparity"
   ]
  },
  {
   "cell_type": "code",
   "execution_count": 50,
   "id": "4a33f704",
   "metadata": {},
   "outputs": [
    {
     "data": {
      "text/html": [
       "<div>\n",
       "<style scoped>\n",
       "    .dataframe tbody tr th:only-of-type {\n",
       "        vertical-align: middle;\n",
       "    }\n",
       "\n",
       "    .dataframe tbody tr th {\n",
       "        vertical-align: top;\n",
       "    }\n",
       "\n",
       "    .dataframe thead th {\n",
       "        text-align: right;\n",
       "    }\n",
       "</style>\n",
       "<table border=\"1\" class=\"dataframe\">\n",
       "  <thead>\n",
       "    <tr style=\"text-align: right;\">\n",
       "      <th></th>\n",
       "      <th>image</th>\n",
       "      <th>image_name</th>\n",
       "      <th>xyz</th>\n",
       "      <th>x</th>\n",
       "      <th>y</th>\n",
       "      <th>z</th>\n",
       "      <th>accuracyxyz</th>\n",
       "      <th>accuracy</th>\n",
       "      <th>Unnamed: 8</th>\n",
       "    </tr>\n",
       "  </thead>\n",
       "  <tbody>\n",
       "    <tr>\n",
       "      <th>0</th>\n",
       "      <td>Image</td>\n",
       "      <td>stream_00000-000000_00000_0000000.jpg</td>\n",
       "      <td>Xyz</td>\n",
       "      <td>134884.076</td>\n",
       "      <td>399072.561</td>\n",
       "      <td>15.876</td>\n",
       "      <td>AccuracyXyz</td>\n",
       "      <td>0.015</td>\n",
       "      <td>NaN</td>\n",
       "    </tr>\n",
       "    <tr>\n",
       "      <th>1</th>\n",
       "      <td>Image</td>\n",
       "      <td>stream_00000-000000_00001_0000001.jpg</td>\n",
       "      <td>Xyz</td>\n",
       "      <td>134884.352</td>\n",
       "      <td>399071.471</td>\n",
       "      <td>15.868</td>\n",
       "      <td>AccuracyXyz</td>\n",
       "      <td>0.015</td>\n",
       "      <td>NaN</td>\n",
       "    </tr>\n",
       "    <tr>\n",
       "      <th>2</th>\n",
       "      <td>Image</td>\n",
       "      <td>stream_00000-000000_00002_0000002.jpg</td>\n",
       "      <td>Xyz</td>\n",
       "      <td>134884.796</td>\n",
       "      <td>399070.559</td>\n",
       "      <td>15.865</td>\n",
       "      <td>AccuracyXyz</td>\n",
       "      <td>0.015</td>\n",
       "      <td>NaN</td>\n",
       "    </tr>\n",
       "    <tr>\n",
       "      <th>3</th>\n",
       "      <td>Image</td>\n",
       "      <td>stream_00000-000000_00003_0000003.jpg</td>\n",
       "      <td>Xyz</td>\n",
       "      <td>134885.212</td>\n",
       "      <td>399069.737</td>\n",
       "      <td>15.842</td>\n",
       "      <td>AccuracyXyz</td>\n",
       "      <td>0.015</td>\n",
       "      <td>NaN</td>\n",
       "    </tr>\n",
       "    <tr>\n",
       "      <th>4</th>\n",
       "      <td>Image</td>\n",
       "      <td>stream_00000-000000_00004_0000004.jpg</td>\n",
       "      <td>Xyz</td>\n",
       "      <td>134885.755</td>\n",
       "      <td>399069.032</td>\n",
       "      <td>15.835</td>\n",
       "      <td>AccuracyXyz</td>\n",
       "      <td>0.015</td>\n",
       "      <td>NaN</td>\n",
       "    </tr>\n",
       "  </tbody>\n",
       "</table>\n",
       "</div>"
      ],
      "text/plain": [
       "   image                             image_name  xyz           x           y  \\\n",
       "0  Image  stream_00000-000000_00000_0000000.jpg  Xyz  134884.076  399072.561   \n",
       "1  Image  stream_00000-000000_00001_0000001.jpg  Xyz  134884.352  399071.471   \n",
       "2  Image  stream_00000-000000_00002_0000002.jpg  Xyz  134884.796  399070.559   \n",
       "3  Image  stream_00000-000000_00003_0000003.jpg  Xyz  134885.212  399069.737   \n",
       "4  Image  stream_00000-000000_00004_0000004.jpg  Xyz  134885.755  399069.032   \n",
       "\n",
       "        z  accuracyxyz  accuracy  Unnamed: 8  \n",
       "0  15.876  AccuracyXyz     0.015         NaN  \n",
       "1  15.868  AccuracyXyz     0.015         NaN  \n",
       "2  15.865  AccuracyXyz     0.015         NaN  \n",
       "3  15.842  AccuracyXyz     0.015         NaN  \n",
       "4  15.835  AccuracyXyz     0.015         NaN  "
      ]
     },
     "execution_count": 50,
     "metadata": {},
     "output_type": "execute_result"
    }
   ],
   "source": [
    "df_iml.head()"
   ]
  },
  {
   "cell_type": "markdown",
   "id": "281ee239",
   "metadata": {},
   "source": [
    "# Final Code"
   ]
  },
  {
   "cell_type": "code",
   "execution_count": 2,
   "id": "ad40c8f8",
   "metadata": {},
   "outputs": [],
   "source": [
    "import os\n",
    "import pandas as pd\n",
    "from shutil import copyfile\n",
    "import numpy as np\n",
    "import math\n",
    "import cv2\n",
    "from pyproj import Proj, transform"
   ]
  },
  {
   "cell_type": "code",
   "execution_count": 2,
   "id": "86adb129",
   "metadata": {},
   "outputs": [],
   "source": [
    "def select_img(sign_x, sign_y):\n",
    "\n",
    "    src_dir = '\\\\\\\\192.168.0.5\\\\work\\\\Work\\\\prjdata\\\\AO34\\\\Panoramas'\n",
    "    dest_dir = 'D:\\\\Distance Measurement\\\\Panaromas'\n",
    "\n",
    "    iml_file_path = 'D:\\\\Distance Measurement\\\\images_tmatched2.csv'\n",
    "    df_iml = pd.read_csv(iml_file_path, delimiter=' ')\n",
    "\n",
    "    for index, row in df_iml.iterrows():\n",
    "        x = row['x']\n",
    "        y = row['y']\n",
    "        img_name = row['image_name']\n",
    "\n",
    "        if abs(sign_x -x) < 10 and abs(sign_y - y) < 10 and abs(sign_x -x) > 5 and abs(sign_y - y) > 5:\n",
    "            print(img_name)\n",
    "            src_file = os.path.join(src_dir, img_name)\n",
    "            dest_file = os.path.join(dest_dir, img_name)\n",
    "            #copyfile(src_file, dest_file)\n"
   ]
  },
  {
   "cell_type": "code",
   "execution_count": 3,
   "id": "c14d4108",
   "metadata": {},
   "outputs": [],
   "source": [
    "iml_file_path = 'D:\\\\Distance Measurement\\\\images_tmatched2.csv'\n",
    "sign_csv_path = r'D:\\Distance Measurement\\street_sign_location.csv'\n",
    "df_iml = pd.read_csv(iml_file_path, delimiter=' ')\n",
    "df_sign = pd.read_csv(sign_csv_path)"
   ]
  },
  {
   "cell_type": "code",
   "execution_count": 18,
   "id": "90f15a11",
   "metadata": {},
   "outputs": [
    {
     "name": "stdout",
     "output_type": "stream",
     "text": [
      "blue_rectangle 135456.988 399616.634\n"
     ]
    }
   ],
   "source": [
    "give_index = 3\n",
    "x_sign, y_sign = get_sign_xval_yval(give_index) "
   ]
  },
  {
   "cell_type": "code",
   "execution_count": 19,
   "id": "af409cce",
   "metadata": {},
   "outputs": [
    {
     "name": "stdout",
     "output_type": "stream",
     "text": [
      "stream_00001-000000_00378_0000473.jpg\n",
      "stream_00005-000000_00075_0002261.jpg\n",
      "stream_00005-000000_00076_0002262.jpg\n",
      "stream_00005-000000_00077_0002263.jpg\n",
      "stream_00005-000000_00078_0002264.jpg\n",
      "stream_00005-000000_00079_0002265.jpg\n",
      "stream_00006-000000_00195_0002504.jpg\n",
      "stream_00006-000000_00196_0002505.jpg\n",
      "stream_00006-000000_00197_0002506.jpg\n"
     ]
    }
   ],
   "source": [
    "select_img(x_sign, y_sign)"
   ]
  },
  {
   "cell_type": "code",
   "execution_count": 20,
   "id": "c2f6e047",
   "metadata": {},
   "outputs": [],
   "source": [
    "def get_car_xval_yval(img_name):\n",
    "\n",
    "    index = 0\n",
    "\n",
    "    for i in df_iml['image_name']:\n",
    "        if i == img_name:\n",
    "            x_val = df_iml['x'][index]\n",
    "            y_val = df_iml['y'][index]\n",
    "\n",
    "        index +=1\n",
    "\n",
    "    print(x_val, y_val)\n",
    "    return x_val, y_val"
   ]
  },
  {
   "cell_type": "code",
   "execution_count": 21,
   "id": "2a5267f4",
   "metadata": {},
   "outputs": [],
   "source": [
    "def get_sign_xval_yval(give_index):\n",
    "    actual_index = give_index - 2\n",
    "    \n",
    "    for index, row in df_sign.iterrows():\n",
    "        if index == actual_index:\n",
    "            x_val = df_sign['x'][index]\n",
    "            y_val = df_sign['y'][index]\n",
    "            sign_name = df_sign['LAYER'][index]\n",
    "\n",
    "    print(sign_name, x_val, y_val)\n",
    "    return x_val, y_val"
   ]
  },
  {
   "cell_type": "code",
   "execution_count": 83,
   "id": "427e136a",
   "metadata": {},
   "outputs": [],
   "source": [
    "img_name1, img_name2, index = 'stream_00006-000000_00192_0002501.jpg', 'stream_00006-000000_00193_0002502.jpg', give_index"
   ]
  },
  {
   "cell_type": "code",
   "execution_count": 84,
   "id": "10e23c29",
   "metadata": {},
   "outputs": [
    {
     "name": "stdout",
     "output_type": "stream",
     "text": [
      "blue_rectangle 135456.988 399616.634\n"
     ]
    }
   ],
   "source": [
    "sign_x, sign_y = get_sign_xval_yval(index) "
   ]
  },
  {
   "cell_type": "code",
   "execution_count": 85,
   "id": "01b0184b",
   "metadata": {},
   "outputs": [
    {
     "name": "stdout",
     "output_type": "stream",
     "text": [
      "135453.169 399615.474\n"
     ]
    }
   ],
   "source": [
    "car_1_x, car_1_y = get_car_xval_yval(img_name1)"
   ]
  },
  {
   "cell_type": "code",
   "execution_count": 86,
   "id": "8eba5426",
   "metadata": {},
   "outputs": [
    {
     "name": "stdout",
     "output_type": "stream",
     "text": [
      "135452.042 399613.722\n"
     ]
    }
   ],
   "source": [
    "car_2_x, car_2_y = get_car_xval_yval(img_name2)"
   ]
  },
  {
   "cell_type": "code",
   "execution_count": 26,
   "id": "96c8d351",
   "metadata": {},
   "outputs": [],
   "source": [
    "def convert_epsg_to_wgs84(epsg_x, epsg_y):\n",
    "    p1 = Proj(init='epsg:28992')\n",
    "    p2 = Proj(proj='latlong',datum='WGS84')\n",
    "    \n",
    "    # Transform point (155000.0, 446000.0) with EPSG:28992\n",
    "    lon, lat, z = transform(p1, p2, epsg_x, epsg_y, 0.0)\n",
    "    print(lon, lat, z) \n",
    "    return lat, lon"
   ]
  },
  {
   "cell_type": "code",
   "execution_count": 27,
   "id": "249d9e95",
   "metadata": {},
   "outputs": [],
   "source": [
    "middle_x = (car_1_x+car_2_x)/2           \n",
    "middle_y = (car_1_y+car_2_y)/2 "
   ]
  },
  {
   "cell_type": "code",
   "execution_count": 28,
   "id": "d996e49c",
   "metadata": {},
   "outputs": [
    {
     "name": "stdout",
     "output_type": "stream",
     "text": [
      "5.10522186252534 51.58512457450844 0.0\n",
      "5.105166824861621 51.58511401502773 0.0\n",
      "5.105150661780166 51.585098227986265 0.0\n",
      "5.105158743319488 51.58510612150729 0.0\n"
     ]
    },
    {
     "name": "stderr",
     "output_type": "stream",
     "text": [
      "C:\\Users\\HSSL107\\anaconda3\\lib\\site-packages\\pyproj\\crs\\crs.py:131: FutureWarning: '+init=<authority>:<code>' syntax is deprecated. '<authority>:<code>' is the preferred initialization method. When making the change, be mindful of axis order changes: https://pyproj4.github.io/pyproj/stable/gotchas.html#axis-order-changes-in-proj-6\n",
      "  in_crs_string = _prepare_from_proj_string(in_crs_string)\n",
      "<ipython-input-26-85d62b58bcc2>:6: DeprecationWarning: This function is deprecated. See: https://pyproj4.github.io/pyproj/stable/gotchas.html#upgrading-to-pyproj-2-from-pyproj-1\n",
      "  lon, lat, z = transform(p1, p2, epsg_x, epsg_y, 0.0)\n",
      "C:\\Users\\HSSL107\\anaconda3\\lib\\site-packages\\pyproj\\crs\\crs.py:131: FutureWarning: '+init=<authority>:<code>' syntax is deprecated. '<authority>:<code>' is the preferred initialization method. When making the change, be mindful of axis order changes: https://pyproj4.github.io/pyproj/stable/gotchas.html#axis-order-changes-in-proj-6\n",
      "  in_crs_string = _prepare_from_proj_string(in_crs_string)\n",
      "<ipython-input-26-85d62b58bcc2>:6: DeprecationWarning: This function is deprecated. See: https://pyproj4.github.io/pyproj/stable/gotchas.html#upgrading-to-pyproj-2-from-pyproj-1\n",
      "  lon, lat, z = transform(p1, p2, epsg_x, epsg_y, 0.0)\n",
      "C:\\Users\\HSSL107\\anaconda3\\lib\\site-packages\\pyproj\\crs\\crs.py:131: FutureWarning: '+init=<authority>:<code>' syntax is deprecated. '<authority>:<code>' is the preferred initialization method. When making the change, be mindful of axis order changes: https://pyproj4.github.io/pyproj/stable/gotchas.html#axis-order-changes-in-proj-6\n",
      "  in_crs_string = _prepare_from_proj_string(in_crs_string)\n",
      "<ipython-input-26-85d62b58bcc2>:6: DeprecationWarning: This function is deprecated. See: https://pyproj4.github.io/pyproj/stable/gotchas.html#upgrading-to-pyproj-2-from-pyproj-1\n",
      "  lon, lat, z = transform(p1, p2, epsg_x, epsg_y, 0.0)\n",
      "C:\\Users\\HSSL107\\anaconda3\\lib\\site-packages\\pyproj\\crs\\crs.py:131: FutureWarning: '+init=<authority>:<code>' syntax is deprecated. '<authority>:<code>' is the preferred initialization method. When making the change, be mindful of axis order changes: https://pyproj4.github.io/pyproj/stable/gotchas.html#axis-order-changes-in-proj-6\n",
      "  in_crs_string = _prepare_from_proj_string(in_crs_string)\n",
      "<ipython-input-26-85d62b58bcc2>:6: DeprecationWarning: This function is deprecated. See: https://pyproj4.github.io/pyproj/stable/gotchas.html#upgrading-to-pyproj-2-from-pyproj-1\n",
      "  lon, lat, z = transform(p1, p2, epsg_x, epsg_y, 0.0)\n"
     ]
    }
   ],
   "source": [
    "sign_lon, sign_lat = convert_epsg_to_wgs84(sign_x, sign_y)\n",
    "car1_lon, car1_lat = convert_epsg_to_wgs84(car_1_x, car_1_y)\n",
    "car2_lon, car2_lat = convert_epsg_to_wgs84(car_2_x, car_2_y)\n",
    "middle_lon, middle_lat = convert_epsg_to_wgs84(middle_x, middle_y)"
   ]
  },
  {
   "cell_type": "code",
   "execution_count": 29,
   "id": "fa3cc754",
   "metadata": {},
   "outputs": [],
   "source": [
    "def angle_From_Coordinate(lat1,  long1,  lat2, long2):\n",
    "    '''\n",
    "    '''\n",
    "    lat2 = math.radians(lat2)\n",
    "    long2 = math.radians(long2)\n",
    "    lat1 = math.radians(lat1)\n",
    "    long1 = math.radians(long1)\n",
    "    '''\n",
    "    '''\n",
    "    dLon = long2 - long1\n",
    "    \n",
    "    y = math.sin(dLon) * math.cos(lat2)\n",
    "    print(y)\n",
    "    print(lat2)\n",
    "    print(dLon)\n",
    "    x = math.cos(lat1) * math.sin(lat2) - math.sin(lat1)* math.cos(lat2) * math.cos(dLon)\n",
    "\n",
    "    angle = math.atan2(y, x)\n",
    "\n",
    "    angle = math.degrees(angle)\n",
    "    angle = (angle + 360) % 360\n",
    "    angle = 360 - angle; # count degrees counter-clockwise - remove to make clockwise\n",
    "\n",
    "    print(angle)\n",
    "    return angle"
   ]
  },
  {
   "cell_type": "code",
   "execution_count": 30,
   "id": "78b6d0dc",
   "metadata": {},
   "outputs": [
    {
     "name": "stdout",
     "output_type": "stream",
     "text": [
      "-2.744428212890939e-07\n",
      "0.08910168785843134\n",
      "-2.7553585268957903e-07\n",
      "135.78814962487778\n"
     ]
    }
   ],
   "source": [
    "angle = angle_From_Coordinate(car1_lat, car1_lon, car2_lat, car2_lon)"
   ]
  },
  {
   "cell_type": "code",
   "execution_count": 31,
   "id": "9dbfcd25",
   "metadata": {},
   "outputs": [
    {
     "name": "stdout",
     "output_type": "stream",
     "text": [
      "1.0\n"
     ]
    }
   ],
   "source": [
    "print(math.sin(math.radians(90)))"
   ]
  },
  {
   "cell_type": "code",
   "execution_count": 32,
   "id": "45224014",
   "metadata": {},
   "outputs": [],
   "source": [
    "def calculate_distance_from_latlon(lat1, lon1, lat2, lon2):\n",
    "    R = 6371.0\n",
    "    lat2 = math.radians(lat2)\n",
    "    lon2 = math.radians(lon2)\n",
    "    lat1 = math.radians(lat1)\n",
    "    lon1 = math.radians(lon1)\n",
    "    \n",
    "    dlon = lon2 - lon1\n",
    "    dlat = lat2 - lat1\n",
    "    \n",
    "    a = math.sin(dlat / 2)**2 + math.cos(lat1) * math.cos(lat2) * math.sin(dlon / 2)**2\n",
    "    c = 2 * math.atan2(math.sqrt(a), math.sqrt(1 - a))\n",
    "    distance = R * c * 1000\n",
    "\n",
    "    print(distance)\n",
    "    return distance "
   ]
  },
  {
   "cell_type": "code",
   "execution_count": null,
   "id": "70f23a80",
   "metadata": {},
   "outputs": [],
   "source": []
  },
  {
   "cell_type": "code",
   "execution_count": 33,
   "id": "5a119973",
   "metadata": {},
   "outputs": [
    {
     "name": "stdout",
     "output_type": "stream",
     "text": [
      "6.230651868027858\n"
     ]
    }
   ],
   "source": [
    "car1_obj = calculate_distance_from_latlon(sign_lat, sign_lon, car1_lat, car1_lon)"
   ]
  },
  {
   "cell_type": "code",
   "execution_count": 34,
   "id": "0df3d156",
   "metadata": {},
   "outputs": [
    {
     "name": "stdout",
     "output_type": "stream",
     "text": [
      "2.5074454352040036\n"
     ]
    }
   ],
   "source": [
    "car1_car2 = calculate_distance_from_latlon(car1_lat, car1_lon, car2_lat, car2_lon)"
   ]
  },
  {
   "cell_type": "code",
   "execution_count": 35,
   "id": "3c70fe97",
   "metadata": {},
   "outputs": [
    {
     "name": "stdout",
     "output_type": "stream",
     "text": [
      "8.437774797862696\n"
     ]
    }
   ],
   "source": [
    "car2_obj = calculate_distance_from_latlon(sign_lat, sign_lon, car2_lat, car2_lon)"
   ]
  },
  {
   "cell_type": "code",
   "execution_count": null,
   "id": "9aad0d25",
   "metadata": {},
   "outputs": [],
   "source": []
  },
  {
   "cell_type": "code",
   "execution_count": 36,
   "id": "a9617c66",
   "metadata": {},
   "outputs": [],
   "source": [
    "from PIL import Image"
   ]
  },
  {
   "cell_type": "code",
   "execution_count": 37,
   "id": "09703e90",
   "metadata": {},
   "outputs": [],
   "source": [
    "def calculating_bbx_pixel(x_center, y_center, width, height, img_dir):\n",
    "    x_min = x_center - width/2\n",
    "    x_max = x_center + width/2\n",
    "    \n",
    "    y_min = y_center - height/2\n",
    "    y_max = y_center + height/2\n",
    "    \n",
    "    im = Image.open(img_dir)\n",
    "    img_width, img_height = im.size\n",
    "    \n",
    "    x_center_p = x_center * img_width\n",
    "    y_center_p = y_center * img_height\n",
    "    \n",
    "    x_min_p = x_min * img_width\n",
    "    x_max_p = x_max * img_width\n",
    "    \n",
    "    y_min_p = y_min * img_height\n",
    "    y_max_p = y_max * img_height\n",
    "    \n",
    "    print(x_center_p, y_center_p, x_min_p, x_max_p, y_min_p, y_max_p)\n",
    "    return x_center_p, y_center_p, x_min_p, x_max_p, y_min_p, y_max_p"
   ]
  },
  {
   "cell_type": "code",
   "execution_count": 71,
   "id": "5a1e1515",
   "metadata": {},
   "outputs": [
    {
     "data": {
      "text/plain": [
       "('stream_00006-000000_00192_0002501.jpg',\n",
       " 'stream_00006-000000_00193_0002502.jpg')"
      ]
     },
     "execution_count": 71,
     "metadata": {},
     "output_type": "execute_result"
    }
   ],
   "source": [
    "img_name1, img_name2"
   ]
  },
  {
   "cell_type": "markdown",
   "id": "0acfd2fc",
   "metadata": {},
   "source": [
    "row 2, ('stream_00006-000000_00096_0002405.jpg', 'stream_00006-000000_00097_0002406.jpg')\n",
    "\n",
    "row 3, ('stream_00006-000000_00192_0002501.jpg', 'stream_00006-000000_00193_0002502.jpg')\n",
    "\n",
    "row 8, ('stream_00001-000000_00343_0000438.jpg', 'stream_00001-000000_00344_0000439.jpg')\n",
    "\n",
    "row 75, ('stream_00003-000000_00713_0001268.jpg', 'stream_00003-000000_00714_0001269.jpg')\n",
    "\n",
    "row 76, ('stream_00003-000000_00711_0001266.jpg', 'stream_00003-000000_00712_0001267.jpg')"
   ]
  },
  {
   "cell_type": "code",
   "execution_count": 72,
   "id": "29c8eea8",
   "metadata": {},
   "outputs": [],
   "source": [
    "def get_bbx_param(text_file_path):\n",
    "    file = open(text_file_path)\n",
    "    output_lst = file.read().split(' ')\n",
    "    x_center, y_center, width, height = float(output_lst[1]), float(output_lst[2]), float(output_lst[3]), float(output_lst[4])\n",
    "    \n",
    "    print(x_center, y_center, width, height)\n",
    "    return x_center, y_center, width, height"
   ]
  },
  {
   "cell_type": "code",
   "execution_count": 73,
   "id": "f162a18d",
   "metadata": {},
   "outputs": [],
   "source": [
    "def get_names(img_name1, img_name2):\n",
    "\n",
    "    or_name1 = os.path.splitext(img_name1)[0]\n",
    "    or_name2 = os.path.splitext(img_name2)[0]\n",
    "\n",
    "    f_name1 = or_name2 + '.txt'\n",
    "    f_name2 = or_name2 + '.txt'\n",
    "\n",
    "    base_path = r'D:\\Distance Measurement\\Panaromas'\n",
    "\n",
    "    text_file_path_l = os.path.join(base_path, f_name1)\n",
    "    text_file_path_r = os.path.join(base_path, f_name1)\n",
    "\n",
    "    img_name_l = os.path.join(base_path, img_name1)\n",
    "    img_name_r = os.path.join(base_path, img_name2)"
   ]
  },
  {
   "cell_type": "code",
   "execution_count": 74,
   "id": "24935c32",
   "metadata": {},
   "outputs": [
    {
     "data": {
      "text/plain": [
       "'stream_00006-000000_00192_0002501.txt'"
      ]
     },
     "execution_count": 74,
     "metadata": {},
     "output_type": "execute_result"
    }
   ],
   "source": [
    "or_name = os.path.splitext(img_name1)[0]\n",
    "f_name = or_name + '.txt'\n",
    "f_name"
   ]
  },
  {
   "cell_type": "code",
   "execution_count": 82,
   "id": "9672589b",
   "metadata": {},
   "outputs": [],
   "source": [
    "text_file_path_l = r'D:\\Distance Measurement\\Panaromas\\stream_00006-000000_00192_0002501.txt'\n",
    "text_file_path_r = r'D:\\Distance Measurement\\Panaromas\\stream_00006-000000_00193_0002502.txt'\n",
    "\n",
    "img_name_l = r'D:\\Distance Measurement\\Panaromas\\stream_00006-000000_00192_0002501.jpg'\n",
    "img_name_r = r'D:\\Distance Measurement\\Panaromas\\stream_00006-000000_00193_0002502.jpg'"
   ]
  },
  {
   "cell_type": "code",
   "execution_count": 76,
   "id": "eb90ed15",
   "metadata": {},
   "outputs": [
    {
     "name": "stdout",
     "output_type": "stream",
     "text": [
      "0.627691 0.479061 0.020933 0.016497\n"
     ]
    }
   ],
   "source": [
    "x_center_l, y_center_l, width_l, height_l = get_bbx_param(text_file_path_l)"
   ]
  },
  {
   "cell_type": "code",
   "execution_count": 77,
   "id": "48ac0015",
   "metadata": {},
   "outputs": [
    {
     "name": "stdout",
     "output_type": "stream",
     "text": [
      "0.587919 0.483503 0.016746 0.01269\n"
     ]
    }
   ],
   "source": [
    "x_center_r, y_center_r, width_r, height_r = get_bbx_param(text_file_path_r)"
   ]
  },
  {
   "cell_type": "code",
   "execution_count": 78,
   "id": "f0a02fe9",
   "metadata": {},
   "outputs": [
    {
     "name": "stdout",
     "output_type": "stream",
     "text": [
      "5021.528 1916.2440000000001 4937.795999999999 5105.26 1883.25 1949.238\n"
     ]
    }
   ],
   "source": [
    "x_center_p_l, y_center_p_l, x_min_p_l, x_max_p_l, y_min_p_l, y_max_p_l = calculating_bbx_pixel(x_center_l, y_center_l, \n",
    "                                                                                               width_l, height_l, img_name_l)"
   ]
  },
  {
   "cell_type": "code",
   "execution_count": 79,
   "id": "ca88e5fe",
   "metadata": {},
   "outputs": [],
   "source": [
    "ul = x_center_p_l\n",
    "vl = y_center_p_l\n",
    "ur = x_center_p_r\n",
    "vr = y_center_p_r"
   ]
  },
  {
   "cell_type": "code",
   "execution_count": 80,
   "id": "2f5347e2",
   "metadata": {},
   "outputs": [
    {
     "name": "stdout",
     "output_type": "stream",
     "text": [
      "4703.352 1934.0120000000002 4636.368 4770.335999999999 1908.632 1959.392\n"
     ]
    }
   ],
   "source": [
    "x_center_p_r, y_center_p_r, x_min_p_r, x_max_p_r, y_min_p_r, y_max_p_r = calculating_bbx_pixel(x_center_r, y_center_r,\n",
    "                                                                                               width_r, height_r, img_name_r)"
   ]
  },
  {
   "cell_type": "code",
   "execution_count": null,
   "id": "719c939b",
   "metadata": {},
   "outputs": [],
   "source": []
  },
  {
   "cell_type": "code",
   "execution_count": 81,
   "id": "db78819a",
   "metadata": {},
   "outputs": [],
   "source": [
    "def calculate_depth(baseline, focal_length, disparity):\n",
    "    depth = baseline * focal_length / disparity\n",
    "    print(depth)\n",
    "    return depth"
   ]
  },
  {
   "cell_type": "code",
   "execution_count": null,
   "id": "d95346a9",
   "metadata": {},
   "outputs": [],
   "source": []
  },
  {
   "cell_type": "code",
   "execution_count": 50,
   "id": "9af753ba",
   "metadata": {},
   "outputs": [],
   "source": [
    "#disparity = ( (x_center_p_r - x_center_p_l)**2 + (y_center_p_r - y_center_p_l)**2 )**0.5\n",
    "disparity = abs(x_center_p_l - x_center_p_r)\n",
    "#dipsarity = x_center_p_l - x_center_p_r\n",
    "baseline = car1_car2\n",
    "#(ladibug 5 camrea pixel size is 3.45 um i.e. 1 pixel = 3.45 um and focal length is 4.4 mm. So we calculate focal length in \n",
    "#pixel)\n",
    "#focal_length = (4.4 * 10e-3) / (3.45 * 10e-6) \n",
    "focal_length = 1024"
   ]
  },
  {
   "cell_type": "code",
   "execution_count": 51,
   "id": "b7e6f1d2",
   "metadata": {},
   "outputs": [
    {
     "name": "stdout",
     "output_type": "stream",
     "text": [
      "8.069823385952732\n"
     ]
    }
   ],
   "source": [
    "depth = calculate_depth(baseline, focal_length, disparity)"
   ]
  },
  {
   "cell_type": "markdown",
   "id": "69f66a40",
   "metadata": {},
   "source": [
    "row 2, blue_rectangle_direction,\n",
    "perv. predicted depth = 14.496, current predicted depth = 11.6391\n",
    "actual depth = 15.565, 17.934"
   ]
  },
  {
   "cell_type": "markdown",
   "id": "fe1a5d84",
   "metadata": {},
   "source": [
    "row 8, yellow_rectangle,\n",
    "prev. predicted depth = 10.798, current predicted depth = 8.67013\n",
    "actual depth = 11.963, 7.222"
   ]
  },
  {
   "cell_type": "markdown",
   "id": "0f210ea5",
   "metadata": {},
   "source": [
    "row 3, blue_rectangle, prev. predicted depth = 10.050, current predicted depth = 8.0698, actual depth = 8.437, 6.230"
   ]
  },
  {
   "cell_type": "markdown",
   "id": "e4fcecf1",
   "metadata": {},
   "source": [
    "row 75, red_circle_cycle , prev. predicted depth = 5.3213, current predicted depth = 4.273, actual depth = 5.7167, 2.854"
   ]
  },
  {
   "cell_type": "markdown",
   "id": "2d74e042",
   "metadata": {},
   "source": [
    "row 76, red_circle_obstruction  , prev. predicted depth = 4.782, current predicted depth = 4.0783, actual depth = 3.938, 3.859"
   ]
  },
  {
   "cell_type": "markdown",
   "id": "9ffd72ad",
   "metadata": {},
   "source": [
    "# Considering angle"
   ]
  },
  {
   "cell_type": "code",
   "execution_count": 52,
   "id": "31b000d5",
   "metadata": {},
   "outputs": [
    {
     "name": "stdout",
     "output_type": "stream",
     "text": [
      "-1.797252635303771 1.7484752144137032\n"
     ]
    }
   ],
   "source": [
    "by = car1_car2 * math.sin(math.radians(angle))\n",
    "bx = car1_car2 * math.cos(math.radians(angle))\n",
    "\n",
    "print(bx, by)"
   ]
  },
  {
   "cell_type": "code",
   "execution_count": 53,
   "id": "42275fc2",
   "metadata": {},
   "outputs": [
    {
     "name": "stdout",
     "output_type": "stream",
     "text": [
      "318.1760000000004 -17.76800000000003\n"
     ]
    }
   ],
   "source": [
    "disparity_x = x_center_p_l - x_center_p_r\n",
    "disparity_y = y_center_p_l - y_center_p_r\n",
    "\n",
    "print(disparity_x, disparity_y)"
   ]
  },
  {
   "cell_type": "code",
   "execution_count": 54,
   "id": "372ad76e",
   "metadata": {},
   "outputs": [
    {
     "name": "stdout",
     "output_type": "stream",
     "text": [
      "-5.784178248991311 -100.76759452721912\n"
     ]
    }
   ],
   "source": [
    "delz1 = bx * focal_length / disparity_x\n",
    "delz2 = by * focal_length / disparity_y\n",
    "\n",
    "print(delz1, delz2)"
   ]
  },
  {
   "cell_type": "code",
   "execution_count": 55,
   "id": "7de7fedf",
   "metadata": {},
   "outputs": [
    {
     "data": {
      "text/plain": [
       "0.0574011742180558"
      ]
     },
     "execution_count": 55,
     "metadata": {},
     "output_type": "execute_result"
    }
   ],
   "source": [
    "delz1/delz2"
   ]
  },
  {
   "cell_type": "code",
   "execution_count": 56,
   "id": "80888176",
   "metadata": {},
   "outputs": [
    {
     "name": "stdout",
     "output_type": "stream",
     "text": [
      "1024 58.77880239928914\n"
     ]
    }
   ],
   "source": [
    "focal_length2 = focal_length*delz1/delz2\n",
    "print(focal_length, focal_length2)"
   ]
  },
  {
   "cell_type": "markdown",
   "id": "dac40cd8",
   "metadata": {},
   "source": [
    "# Calculating x & y co-ordinate"
   ]
  },
  {
   "cell_type": "code",
   "execution_count": 57,
   "id": "db784797",
   "metadata": {},
   "outputs": [
    {
     "name": "stdout",
     "output_type": "stream",
     "text": [
      "39.57308992931294\n"
     ]
    }
   ],
   "source": [
    "#z = car1_obj\n",
    "z = depth \n",
    "fx = focal_length\n",
    "u = x_center_p_l\n",
    "ox = 0\n",
    "\n",
    "x1 = (z/fx) * (u-ox)\n",
    "print(x1)"
   ]
  },
  {
   "cell_type": "code",
   "execution_count": 58,
   "id": "6f075176",
   "metadata": {},
   "outputs": [
    {
     "name": "stdout",
     "output_type": "stream",
     "text": [
      "15.095802507833438\n"
     ]
    }
   ],
   "source": [
    "#z = car1_obj\n",
    "z = depth \n",
    "fy = focal_length\n",
    "v = y_center_p_l\n",
    "oy = 0.70\n",
    "\n",
    "y1 = (z/fy) * (v-oy)\n",
    "print(y1)"
   ]
  },
  {
   "cell_type": "code",
   "execution_count": 59,
   "id": "1bca9874",
   "metadata": {},
   "outputs": [
    {
     "name": "stdout",
     "output_type": "stream",
     "text": [
      "38.755688448317485\n"
     ]
    }
   ],
   "source": [
    "z = car2_obj\n",
    "fx = focal_length\n",
    "u = x_center_p_r\n",
    "ox = 0\n",
    "\n",
    "x2 = (z/fx) * (u-ox)\n",
    "print(x2)"
   ]
  },
  {
   "cell_type": "code",
   "execution_count": 60,
   "id": "5fc66a31",
   "metadata": {},
   "outputs": [
    {
     "name": "stdout",
     "output_type": "stream",
     "text": [
      "15.235826552678759\n"
     ]
    }
   ],
   "source": [
    "z = depth\n",
    "fy = focal_length\n",
    "v = y_center_p_r\n",
    "oy = 0.70\n",
    "\n",
    "y2 = (z/fy) * (v-oy)\n",
    "print(y2)"
   ]
  },
  {
   "cell_type": "code",
   "execution_count": null,
   "id": "39f20a43",
   "metadata": {},
   "outputs": [],
   "source": []
  },
  {
   "cell_type": "code",
   "execution_count": 61,
   "id": "4d318673",
   "metadata": {},
   "outputs": [
    {
     "name": "stdout",
     "output_type": "stream",
     "text": [
      "135453.169 399615.474 135452.042 399613.722 135456.988 399616.634\n"
     ]
    }
   ],
   "source": [
    "#y = math.sin(dLon) * math.cos(lat2)\n",
    "#x = math.cos(lat1) * math.sin(lat2) - math.sin(lat1)* math.cos(lat2) * math.cos(dLon)\n",
    "\n",
    "#5.10403132613173 51.58411502648751 0.0\n",
    "#5.103929991139833 51.58407872776751 0.0\n",
    "#5.103966373679415 51.58411435689469 0.0\n",
    "#sign_lon, sign_lat = convert_epsg_to_wgs84(sign_x, sign_y)\n",
    "#car1_lon, car1_lat = convert_epsg_to_wgs84(car_1_x, car_1_y)\n",
    "#car2_lon, car2_lat = convert_epsg_to_wgs84(car_2_x, car_2_y)\n",
    "print(car_1_x, car_1_y, car_2_x, car_2_y, sign_x, sign_y)"
   ]
  },
  {
   "cell_type": "code",
   "execution_count": 62,
   "id": "082697e7",
   "metadata": {},
   "outputs": [
    {
     "name": "stdout",
     "output_type": "stream",
     "text": [
      "3942926.6094798488 4972079.641371498 566916.9181765777\n",
      "3942966.182569778 4972094.737174006 566924.9879999636\n",
      "3942924.6200843495 4972080.421904369 566923.9088695722\n",
      "51.58491085188079 5.10523160603106\n",
      "51.58512457450844 5.10522186252534\n"
     ]
    }
   ],
   "source": [
    "#lat2 = math.radians(lat2)\n",
    "#lon2 = math.radians(lon2)\n",
    "R = 6371 * 1000 \n",
    "#lat1 = math.radians(car1_lat)\n",
    "#lon1 = math.radians(car1_lon)\n",
    "lat1 = math.radians(middle_lat)\n",
    "lon1 = math.radians(middle_lon)\n",
    "lat2 = math.radians(sign_lat)\n",
    "lon2 = math.radians(sign_lon)\n",
    "\n",
    "x11 = R * math.cos(lat1) * math.cos(lon1)\n",
    "y11 = R * math.cos(lat1) * math.sin(lon1)\n",
    "z11 = R * math.sin(lat1)\n",
    "\n",
    "print(x11, y11, z11)\n",
    "\n",
    "#x1 /= 1000\n",
    "#y1 /= 1000\n",
    "#z /= 1000\n",
    "\n",
    "x1o, y1o, z1o = x11+x1, y11+y1, z11+z\n",
    "#x1o, y1o, z1o = x11+x1, y11+y1, z11+z\n",
    "\n",
    "print(x1o, y1o, z1o)\n",
    "\n",
    "xo = R * math.cos(lat2) * math.cos(lon2)\n",
    "yo = R * math.cos(lat2) * math.sin(lon2)\n",
    "zo = R * math.sin(lat2)\n",
    "\n",
    "print(xo, yo, zo)\n",
    "\n",
    "lato = math.degrees(math.atan2(y1o, x1o))\n",
    "lono = math.degrees(math.asin(z1o/R))\n",
    "\n",
    "print(lato, lono)\n",
    "print(sign_lon, sign_lat)"
   ]
  },
  {
   "cell_type": "markdown",
   "id": "8866815b",
   "metadata": {},
   "source": [
    "row 8 predicted 51.58415478129123 5.10402646518362 actual 51.58411502648751 5.10403132613173 distance 4.433"
   ]
  },
  {
   "cell_type": "markdown",
   "id": "a05c9f81",
   "metadata": {},
   "source": [
    "row 75 predicted 51.580769728776964 5.100505735688737 actual 51.580771870116756 5.100445775175575 distance 4.149"
   ]
  },
  {
   "cell_type": "markdown",
   "id": "fd203b9e",
   "metadata": {},
   "source": [
    "row 76 predicted 51.58077640703541 5.100607712667333 actual 51.58079248359838 5.100567844559459 distance 3.283"
   ]
  },
  {
   "cell_type": "code",
   "execution_count": 470,
   "id": "7e3ee0cf",
   "metadata": {},
   "outputs": [
    {
     "name": "stdout",
     "output_type": "stream",
     "text": [
      "7.310042035458384\n"
     ]
    },
    {
     "data": {
      "text/plain": [
       "7.310042035458384"
      ]
     },
     "execution_count": 470,
     "metadata": {},
     "output_type": "execute_result"
    }
   ],
   "source": [
    "calculate_distance_from_latlon(middle_lat, middle_lon, sign_lat, sign_lon)"
   ]
  },
  {
   "cell_type": "code",
   "execution_count": 175,
   "id": "c0f5d8f0",
   "metadata": {},
   "outputs": [
    {
     "name": "stdout",
     "output_type": "stream",
     "text": [
      "5.079205299022312\n"
     ]
    },
    {
     "data": {
      "text/plain": [
       "5.079205299022312"
      ]
     },
     "execution_count": 175,
     "metadata": {},
     "output_type": "execute_result"
    }
   ],
   "source": [
    "calculate_distance_from_latlon(51.580771870116756,  5.100445775175575,  51.58073099504531, 5.100478587272883)"
   ]
  },
  {
   "cell_type": "code",
   "execution_count": 88,
   "id": "10713959",
   "metadata": {},
   "outputs": [
    {
     "data": {
      "text/plain": [
       "51.58074675971054"
      ]
     },
     "execution_count": 88,
     "metadata": {},
     "output_type": "execute_result"
    }
   ],
   "source": [
    "car1_lat"
   ]
  },
  {
   "cell_type": "code",
   "execution_count": 240,
   "id": "e538411e",
   "metadata": {},
   "outputs": [
    {
     "data": {
      "text/plain": [
       "-16.449768339088948"
      ]
     },
     "execution_count": 240,
     "metadata": {},
     "output_type": "execute_result"
    }
   ],
   "source": [
    "depth2 = depth+x2-x1\n",
    "depth2"
   ]
  },
  {
   "cell_type": "code",
   "execution_count": 234,
   "id": "bac4b9b1",
   "metadata": {},
   "outputs": [
    {
     "data": {
      "text/plain": [
       "-667.4639999999998"
      ]
     },
     "execution_count": 234,
     "metadata": {},
     "output_type": "execute_result"
    }
   ],
   "source": [
    "disparity = x_center_p_l - x_center_p_r\n",
    "disparity"
   ]
  },
  {
   "cell_type": "code",
   "execution_count": 235,
   "id": "42a9fd4e",
   "metadata": {},
   "outputs": [
    {
     "name": "stdout",
     "output_type": "stream",
     "text": [
      "-10.798399470854768\n"
     ]
    }
   ],
   "source": [
    "depth = calculate_depth(baseline, focal_length, disparity)"
   ]
  },
  {
   "cell_type": "markdown",
   "id": "b35b4643",
   "metadata": {},
   "source": [
    "# Using HRP"
   ]
  },
  {
   "cell_type": "code",
   "execution_count": 385,
   "id": "5d51c664",
   "metadata": {},
   "outputs": [],
   "source": [
    "def getRotationMatrix(angle_x, angle_y, angle_z):\n",
    "    \"\"\"\n",
    "    Get rotation matrix\n",
    "    :param angle_x: angle around x-axis in deg\n",
    "    :param angle_y: angle around y-axis in deg\n",
    "    :param angle_z: angle around z-axis in deg\n",
    "    :return: 4x4 rotation matrix\n",
    "    \"\"\"\n",
    "    alpha_x = angle_x * np.pi / 180.\n",
    "    alpha_y = angle_y * np.pi / 180.\n",
    "    alpha_z = angle_z * np.pi / 180.\n",
    "    R = np.eye(3)\n",
    "    from transforms3d.euler import euler2mat\n",
    "    R[:3, :3] = euler2mat(alpha_x, alpha_y, alpha_z, 'rxyz')\n",
    "    print(R)\n",
    "    return R \n"
   ]
  },
  {
   "cell_type": "code",
   "execution_count": 386,
   "id": "dc219dbf",
   "metadata": {},
   "outputs": [],
   "source": [
    "del_pitch = 0.298898-0.248005\n",
    "del_yaw = 33.189356-33.188885\n",
    "del_roll = 0.580906-0.768883"
   ]
  },
  {
   "cell_type": "code",
   "execution_count": 444,
   "id": "6666fbcc",
   "metadata": {},
   "outputs": [
    {
     "name": "stdout",
     "output_type": "stream",
     "text": [
      "[[ 9.99994618e-01  3.28081168e-03  8.22050078e-06]\n",
      " [-3.28080309e-03  9.99994224e-01 -8.88250299e-04]\n",
      " [-1.11346353e-05  8.88218549e-04  9.99999605e-01]]\n"
     ]
    }
   ],
   "source": [
    "R = getRotationMatrix(del_pitch, del_yaw, del_roll)\n",
    "#R = getRotationMatrix(-0.240048, 167.256339, 0.324172)"
   ]
  },
  {
   "cell_type": "code",
   "execution_count": null,
   "id": "955c4065",
   "metadata": {},
   "outputs": [],
   "source": []
  },
  {
   "cell_type": "code",
   "execution_count": null,
   "id": "3710c8fc",
   "metadata": {},
   "outputs": [],
   "source": [
    "Hrp=167.256339 0.324172 -0.240048"
   ]
  },
  {
   "cell_type": "code",
   "execution_count": 41,
   "id": "17eb41e5",
   "metadata": {},
   "outputs": [],
   "source": [
    "def eulerAnglesToRotationMatrix(theta2):\n",
    "    '''\n",
    "    Converts rotation angles about x,y and z axis to a rotation matrix\n",
    "    '''\n",
    "    #theta = []\n",
    "    theta = theta2\n",
    "    #for i in range(len(theta2)):\n",
    "        #a = math.radians(theta2[i])\n",
    "        #print(a)\n",
    "        #theta.append(a)\n",
    "        \n",
    "    R_x = np.array([[1, 0, 0],\n",
    "                    [0, math.cos(theta[0]), math.sin(theta[0])],\n",
    "                    [0, -math.sin(theta[0]), math.cos(theta[0])]\n",
    "                    ])\n",
    "\n",
    "    R_y = np.array([[math.cos(theta[1]), 0, -math.sin(theta[1])],\n",
    "                    [0, 1, 0],\n",
    "                    [math.sin(theta[1]), 0, math.cos(theta[1])]\n",
    "                    ])\n",
    "\n",
    "    R_z = np.array([[math.cos(theta[2]), math.sin(theta[2]), 0],\n",
    "                    [-math.sin(theta[2]), math.cos(theta[2]), 0],\n",
    "                    [0, 0, 1]\n",
    "                    ])\n",
    "    R = np.dot(R_z, np.dot(R_y, R_x))\n",
    "    print(R)\n",
    "    return R\n",
    "    "
   ]
  },
  {
   "cell_type": "code",
   "execution_count": 42,
   "id": "9bd54793",
   "metadata": {},
   "outputs": [
    {
     "name": "stdout",
     "output_type": "stream",
     "text": [
      "[[ 9.99999995e-01  8.99999877e-08  9.99999593e-05]\n",
      " [ 0.00000000e+00  9.99999595e-01 -8.99999879e-04]\n",
      " [-9.99999998e-05  8.99999874e-04  9.99999590e-01]]\n"
     ]
    }
   ],
   "source": [
    "R = eulerAnglesToRotationMatrix([-0.0009, -0.0001, 0.0000])\n",
    "#R = eulerAnglesToRotationMatrix([del_pitch, del_yaw, del_roll])\n"
   ]
  },
  {
   "cell_type": "code",
   "execution_count": 29,
   "id": "eefadfeb",
   "metadata": {},
   "outputs": [
    {
     "ename": "TypeError",
     "evalue": "'builtin_function_or_method' object is not subscriptable",
     "output_type": "error",
     "traceback": [
      "\u001b[1;31m---------------------------------------------------------------------------\u001b[0m",
      "\u001b[1;31mTypeError\u001b[0m                                 Traceback (most recent call last)",
      "\u001b[1;32m<ipython-input-29-32af9a43da49>\u001b[0m in \u001b[0;36m<module>\u001b[1;34m\u001b[0m\n\u001b[1;32m----> 1\u001b[1;33m \u001b[0mR\u001b[0m \u001b[1;33m=\u001b[0m \u001b[0meulerAnglesToRotationMatrix\u001b[0m\u001b[1;33m(\u001b[0m\u001b[1;33m[\u001b[0m\u001b[1;33m-\u001b[0m\u001b[1;36m0.0009\u001b[0m\u001b[1;33m,\u001b[0m \u001b[1;33m-\u001b[0m\u001b[1;36m0.0001\u001b[0m\u001b[1;33m,\u001b[0m \u001b[1;36m0.0000\u001b[0m\u001b[1;33m]\u001b[0m\u001b[1;33m)\u001b[0m\u001b[1;33m\u001b[0m\u001b[1;33m\u001b[0m\u001b[0m\n\u001b[0m\u001b[0;32m      2\u001b[0m \u001b[1;31m#R = eulerAnglesToRotationMatrix([del_pitch, del_yaw, del_roll])\u001b[0m\u001b[1;33m\u001b[0m\u001b[1;33m\u001b[0m\u001b[1;33m\u001b[0m\u001b[0m\n",
      "\u001b[1;32m<ipython-input-28-49166763f0d1>\u001b[0m in \u001b[0;36meulerAnglesToRotationMatrix\u001b[1;34m(theta2)\u001b[0m\n\u001b[0;32m      6\u001b[0m     \u001b[1;32mfor\u001b[0m \u001b[0mi\u001b[0m \u001b[1;32min\u001b[0m \u001b[0mrange\u001b[0m\u001b[1;33m(\u001b[0m\u001b[0mlen\u001b[0m\u001b[1;33m(\u001b[0m\u001b[0mtheta2\u001b[0m\u001b[1;33m)\u001b[0m\u001b[1;33m)\u001b[0m\u001b[1;33m:\u001b[0m\u001b[1;33m\u001b[0m\u001b[1;33m\u001b[0m\u001b[0m\n\u001b[0;32m      7\u001b[0m         \u001b[0ma\u001b[0m \u001b[1;33m=\u001b[0m \u001b[0mmath\u001b[0m\u001b[1;33m.\u001b[0m\u001b[0mradians\u001b[0m\u001b[1;33m(\u001b[0m\u001b[0mtheta2\u001b[0m\u001b[1;33m[\u001b[0m\u001b[0mi\u001b[0m\u001b[1;33m]\u001b[0m\u001b[1;33m)\u001b[0m\u001b[1;33m\u001b[0m\u001b[1;33m\u001b[0m\u001b[0m\n\u001b[1;32m----> 8\u001b[1;33m         \u001b[0mtheta\u001b[0m\u001b[1;33m.\u001b[0m\u001b[0mappend\u001b[0m\u001b[1;33m[\u001b[0m\u001b[0ma\u001b[0m\u001b[1;33m]\u001b[0m\u001b[1;33m\u001b[0m\u001b[1;33m\u001b[0m\u001b[0m\n\u001b[0m\u001b[0;32m      9\u001b[0m \u001b[1;33m\u001b[0m\u001b[0m\n\u001b[0;32m     10\u001b[0m     R_x = np.array([[1, 0, 0],\n",
      "\u001b[1;31mTypeError\u001b[0m: 'builtin_function_or_method' object is not subscriptable"
     ]
    }
   ],
   "source": []
  },
  {
   "cell_type": "code",
   "execution_count": 23,
   "id": "19eb816c",
   "metadata": {},
   "outputs": [
    {
     "data": {
      "text/plain": [
       "3"
      ]
     },
     "execution_count": 23,
     "metadata": {},
     "output_type": "execute_result"
    }
   ],
   "source": [
    "R.shape[0]"
   ]
  },
  {
   "cell_type": "code",
   "execution_count": 43,
   "id": "7f07267e",
   "metadata": {},
   "outputs": [
    {
     "name": "stdout",
     "output_type": "stream",
     "text": [
      "[0.999999995, 8.999998770000053e-08, 9.999995933333615e-05, 0.0, 0.9999995950000273, -0.0008999998785000049, -9.999999983333334e-05, 0.0008999998740000056, 0.9999995900000294]\n"
     ]
    }
   ],
   "source": [
    "A = []\n",
    "for i in range(3):\n",
    "    for j in range(3):\n",
    "        a = R[i,j]\n",
    "        #print(a)\n",
    "        A.append(a)\n",
    "        \n",
    "print(A)"
   ]
  },
  {
   "cell_type": "code",
   "execution_count": 278,
   "id": "8f2508bd",
   "metadata": {},
   "outputs": [],
   "source": [
    "def get_rotation_matrix(rot_x: np.ndarray, rot_y: np.ndarray, rot_z: np.ndarray) -> np.ndarray:\n",
    "    \"\"\"\n",
    "    create 3D rotation matrix given rotations around axes in rad\n",
    "    :param rot_x: rotation around x in rad\n",
    "    :param rot_y: rotation around y in rad\n",
    "    :param rot_z: rotation around z in rad\n",
    "    :return: 3D rotation matrix\n",
    "    \"\"\"\n",
    "    c, s = np.cos(rot_z), np.sin(rot_z)\n",
    "\n",
    "    RZ = np.matrix(\n",
    "        '{} {} 0;'\n",
    "        '{} {} 0;'\n",
    "        ' 0  0 1'.format(c, -s, s, c)\n",
    "    )\n",
    "\n",
    "    c, s = np.cos(rot_x), np.sin(rot_x)\n",
    "\n",
    "    RX = np.matrix(\n",
    "        ' 1  0  0;'\n",
    "        ' 0 {} {};'\n",
    "        ' 0 {} {}'.format(c, -s, s, c)\n",
    "    )\n",
    "\n",
    "    c, s = np.cos(rot_y), np.sin(rot_y)\n",
    "\n",
    "    RY = np.matrix(\n",
    "        '{} {}  0;'\n",
    "        '{} {}  0;'\n",
    "        ' 0  0  1'.format(c, -s, s, c)\n",
    "    )\n",
    "    R = RX.dot(RY).dot(RZ) \n",
    "    print(R)\n",
    "    return R"
   ]
  },
  {
   "cell_type": "code",
   "execution_count": 279,
   "id": "30c6c21d",
   "metadata": {},
   "outputs": [
    {
     "name": "stdout",
     "output_type": "stream",
     "text": [
      "[[-0.47476409  0.88011309  0.        ]\n",
      " [-0.85487723 -0.46115097  0.23774925]\n",
      " [ 0.20924623  0.11287481  0.97132656]]\n"
     ]
    }
   ],
   "source": [
    "R = get_rotation_matrix(-0.240048, 167.256339, 0.324172)"
   ]
  },
  {
   "cell_type": "code",
   "execution_count": 742,
   "id": "603b6bf3",
   "metadata": {},
   "outputs": [],
   "source": [
    "fx=fy=1024 \n",
    "ox = 0\n",
    "oy = (0.7 * 10e-3) / (3.45 * 10e-6) "
   ]
  },
  {
   "cell_type": "code",
   "execution_count": 413,
   "id": "afa51376",
   "metadata": {},
   "outputs": [
    {
     "data": {
      "text/plain": [
       "116.66666666666664"
      ]
     },
     "execution_count": 413,
     "metadata": {},
     "output_type": "execute_result"
    }
   ],
   "source": [
    "oy"
   ]
  },
  {
   "cell_type": "code",
   "execution_count": 309,
   "id": "53bbc473",
   "metadata": {},
   "outputs": [],
   "source": [
    "M = np.array([[fx, 0, ox, 0],\n",
    "             [0, fy, oy, 0],\n",
    "             [0, 0, 1, 0]])"
   ]
  },
  {
   "cell_type": "code",
   "execution_count": 347,
   "id": "55a25269",
   "metadata": {},
   "outputs": [
    {
     "name": "stdout",
     "output_type": "stream",
     "text": [
      "[[ 7.33329387e+02  2.40592857e+00  6.02836724e-03  0.00000000e+00]\n",
      " [-2.40593006e+00  7.33329719e+02  4.86161709e-02  0.00000000e+00]\n",
      " [-1.11346353e-05  8.88218549e-04  9.99999605e-01  0.00000000e+00]]\n"
     ]
    }
   ],
   "source": [
    "p = np.dot(M, R)\n",
    "print(P)"
   ]
  },
  {
   "cell_type": "code",
   "execution_count": 321,
   "id": "ae05dcdf",
   "metadata": {},
   "outputs": [],
   "source": [
    "ul = x_center_p_l\n",
    "vl = y_center_p_l\n",
    "ur = x_center_p_r\n",
    "vr = y_center_p_r"
   ]
  },
  {
   "cell_type": "code",
   "execution_count": 322,
   "id": "d956c66e",
   "metadata": {},
   "outputs": [],
   "source": [
    "A = np.array([[ur*M[2,0]-M[0,0], ur*M[2,1]-M[0,1], ur*M[2,2]-M[0,2]],\n",
    "              [vr*M[2,0]-M[1,0], vr*M[2,1]-M[1,1], vr*M[2,2]-M[1,2]],\n",
    "              [ul*p[2,0]-p[0,0], ul*p[2,1]-p[0,1], ul*p[2,2]-p[0,2]],\n",
    "              [vl*p[2,0]-p[1,0], vl*p[2,1]-p[1,1], vl*p[2,2]-p[1,2]]])"
   ]
  },
  {
   "cell_type": "code",
   "execution_count": 346,
   "id": "c8cd204f",
   "metadata": {},
   "outputs": [],
   "source": [
    "b = np.array([[M[0,3]-M[2,3]],\n",
    "              [M[1,3]-M[2,3]],\n",
    "              [p[0,3]-p[2,3]],\n",
    "              [p[1,3]-p[2,3]]])"
   ]
  },
  {
   "cell_type": "code",
   "execution_count": 350,
   "id": "f145e3d8",
   "metadata": {},
   "outputs": [
    {
     "name": "stdout",
     "output_type": "stream",
     "text": [
      "[[8.87433033e-06 1.68266735e-05 5.90469895e-06]\n",
      " [1.68266735e-05 3.65695535e-05 1.25059190e-05]\n",
      " [5.90469895e-06 1.25059190e-05 4.38858161e-06]]\n",
      "[[ 0.00130389  0.00017006 -0.00266804 -0.00016384]\n",
      " [ 0.00420537 -0.00032278 -0.00420871 -0.00103296]\n",
      " [ 0.00147584  0.00012659 -0.00147623 -0.00012322]]\n",
      "[[0.]\n",
      " [0.]\n",
      " [0.]]\n"
     ]
    }
   ],
   "source": [
    "part1 = np.linalg.inv(np.dot(np.transpose(A), A))\n",
    "print(part1)\n",
    "part2 = np.dot(part1, np.transpose(A))\n",
    "print(part2)\n",
    "part3 = np.dot(part2, b)\n",
    "print(part3)"
   ]
  },
  {
   "cell_type": "code",
   "execution_count": 351,
   "id": "7b4c7e3e",
   "metadata": {},
   "outputs": [
    {
     "name": "stdout",
     "output_type": "stream",
     "text": [
      "[[0.]\n",
      " [0.]\n",
      " [0.]\n",
      " [0.]]\n"
     ]
    }
   ],
   "source": [
    "print(b)"
   ]
  },
  {
   "cell_type": "code",
   "execution_count": 352,
   "id": "f76b7361",
   "metadata": {},
   "outputs": [
    {
     "name": "stdout",
     "output_type": "stream",
     "text": [
      "[[0.]\n",
      " [0.]\n",
      " [0.]]\n"
     ]
    }
   ],
   "source": [
    "xr = part3\n",
    "print(xr)"
   ]
  },
  {
   "cell_type": "markdown",
   "id": "dc0e98ca",
   "metadata": {},
   "source": [
    "# Approach 2"
   ]
  },
  {
   "cell_type": "code",
   "execution_count": 425,
   "id": "cc873eea",
   "metadata": {},
   "outputs": [],
   "source": [
    "M = np.array([[fx, 0, ox],\n",
    "             [0, fy, oy],\n",
    "             [0, 0, 1,]])"
   ]
  },
  {
   "cell_type": "code",
   "execution_count": 426,
   "id": "22d9ec5f",
   "metadata": {},
   "outputs": [
    {
     "data": {
      "text/plain": [
       "array([[733.33333333,   0.        ,   0.        ],\n",
       "       [  0.        , 733.33333333, 116.66666667],\n",
       "       [  0.        ,   0.        ,   1.        ]])"
      ]
     },
     "execution_count": 426,
     "metadata": {},
     "output_type": "execute_result"
    }
   ],
   "source": [
    "M"
   ]
  },
  {
   "cell_type": "code",
   "execution_count": 361,
   "id": "9cbc7dcd",
   "metadata": {},
   "outputs": [],
   "source": [
    "U = np.array([[ul],\n",
    "     [vl],\n",
    "     [1]])"
   ]
  },
  {
   "cell_type": "code",
   "execution_count": 362,
   "id": "58bb4d23",
   "metadata": {},
   "outputs": [
    {
     "data": {
      "text/plain": [
       "(3, 1)"
      ]
     },
     "execution_count": 362,
     "metadata": {},
     "output_type": "execute_result"
    }
   ],
   "source": [
    "U.shape"
   ]
  },
  {
   "cell_type": "code",
   "execution_count": 365,
   "id": "8664a098",
   "metadata": {},
   "outputs": [],
   "source": [
    "Z = np.dot(np.transpose(U), np.linalg.inv(M))"
   ]
  },
  {
   "cell_type": "code",
   "execution_count": 366,
   "id": "73ee9fbc",
   "metadata": {},
   "outputs": [
    {
     "data": {
      "text/plain": [
       "array([[ 0.89386909,  2.79995455, -0.95996818]])"
      ]
     },
     "execution_count": 366,
     "metadata": {},
     "output_type": "execute_result"
    }
   ],
   "source": [
    "Z"
   ]
  },
  {
   "cell_type": "code",
   "execution_count": 416,
   "id": "14aeddf3",
   "metadata": {},
   "outputs": [
    {
     "data": {
      "text/plain": [
       "array([[-0.69233143, -0.15545493, -0.70463534],\n",
       "       [-0.23264137,  0.97246129,  0.01403709],\n",
       "       [ 0.68304845,  0.17364565, -0.70943076]])"
      ]
     },
     "execution_count": 416,
     "metadata": {},
     "output_type": "execute_result"
    }
   ],
   "source": [
    "R"
   ]
  },
  {
   "cell_type": "code",
   "execution_count": 420,
   "id": "81672f2f",
   "metadata": {},
   "outputs": [],
   "source": [
    "temp = np.linalg.inv(np.dot(M, R))"
   ]
  },
  {
   "cell_type": "code",
   "execution_count": 404,
   "id": "3d6cd4fd",
   "metadata": {},
   "outputs": [],
   "source": [
    "P = np.dot(M, R)"
   ]
  },
  {
   "cell_type": "code",
   "execution_count": 405,
   "id": "2e7557ae",
   "metadata": {},
   "outputs": [],
   "source": [
    "Z = np.dot(np.transpose(U), temp)"
   ]
  },
  {
   "cell_type": "code",
   "execution_count": 406,
   "id": "8bf27a07",
   "metadata": {},
   "outputs": [
    {
     "data": {
      "text/plain": [
       "array([[  1.40073183,   2.5799501 , 103.33747857]])"
      ]
     },
     "execution_count": 406,
     "metadata": {},
     "output_type": "execute_result"
    }
   ],
   "source": [
    "Z"
   ]
  },
  {
   "cell_type": "code",
   "execution_count": 421,
   "id": "d5c4ecb6",
   "metadata": {},
   "outputs": [
    {
     "data": {
      "text/plain": [
       "array([[0.38414866],\n",
       "       [2.80868686],\n",
       "       [0.85841169]])"
      ]
     },
     "execution_count": 421,
     "metadata": {},
     "output_type": "execute_result"
    }
   ],
   "source": [
    "Z = np.dot(temp, U)\n",
    "Z"
   ]
  },
  {
   "cell_type": "code",
   "execution_count": 399,
   "id": "3d79ac4d",
   "metadata": {},
   "outputs": [
    {
     "name": "stdout",
     "output_type": "stream",
     "text": [
      "[[-1.07919458]\n",
      " [ 2.80093656]\n",
      " [-0.78961788]]\n"
     ]
    }
   ],
   "source": [
    "part1 = np.linalg.inv(np.dot(np.transpose(P), P))\n",
    "#print(part1)\n",
    "part2 = np.dot(part1, np.transpose(P))\n",
    "#print(part2)\n",
    "part3 = np.dot(part2, U)\n",
    "print(part3)"
   ]
  },
  {
   "cell_type": "code",
   "execution_count": 427,
   "id": "85efbb9a",
   "metadata": {},
   "outputs": [],
   "source": [
    "U = np.array([[ur],\n",
    "     [vr],\n",
    "     [1]])"
   ]
  },
  {
   "cell_type": "code",
   "execution_count": 428,
   "id": "0c170b66",
   "metadata": {},
   "outputs": [
    {
     "data": {
      "text/plain": [
       "array([[1.80404727],\n",
       "       [2.73084727],\n",
       "       [1.        ]])"
      ]
     },
     "execution_count": 428,
     "metadata": {},
     "output_type": "execute_result"
    }
   ],
   "source": [
    "Z = np.dot(np.linalg.inv(M), U)\n",
    "Z"
   ]
  },
  {
   "cell_type": "code",
   "execution_count": 452,
   "id": "ac6929b7",
   "metadata": {},
   "outputs": [],
   "source": [
    "# changin shape \n",
    "\n",
    "M = np.array([[fx, 0, ox],\n",
    "             [0, fy, oy]])\n",
    "\n",
    "U = np.array([[ul],\n",
    "     [vl]])"
   ]
  },
  {
   "cell_type": "code",
   "execution_count": 453,
   "id": "950545f1",
   "metadata": {},
   "outputs": [
    {
     "data": {
      "text/plain": [
       "array([[ 1.27535545e+03,  4.18422359e+00,  1.04841169e-02],\n",
       "       [-4.18647183e+00,  1.27553517e+03,  2.01765630e+02]])"
      ]
     },
     "execution_count": 453,
     "metadata": {},
     "output_type": "execute_result"
    }
   ],
   "source": [
    "P = np.dot(M, R)\n",
    "P"
   ]
  },
  {
   "cell_type": "code",
   "execution_count": 454,
   "id": "c6fe3b17",
   "metadata": {},
   "outputs": [
    {
     "name": "stdout",
     "output_type": "stream",
     "text": [
      "[[0.51397972]\n",
      " [1.0014939 ]\n",
      " [8.04055124]]\n"
     ]
    }
   ],
   "source": [
    "part1 = np.linalg.inv(np.dot(np.transpose(P), P))\n",
    "#print(part1)\n",
    "part2 = np.dot(part1, np.transpose(P))\n",
    "#print(part2)\n",
    "part3 = np.dot(part2, U)\n",
    "print(part3)"
   ]
  },
  {
   "cell_type": "code",
   "execution_count": 455,
   "id": "06b94670",
   "metadata": {},
   "outputs": [],
   "source": [
    "U = np.array([[ur],\n",
    "     [vr]])"
   ]
  },
  {
   "cell_type": "code",
   "execution_count": 456,
   "id": "97425f21",
   "metadata": {},
   "outputs": [
    {
     "ename": "LinAlgError",
     "evalue": "Singular matrix",
     "output_type": "error",
     "traceback": [
      "\u001b[1;31m---------------------------------------------------------------------------\u001b[0m",
      "\u001b[1;31mLinAlgError\u001b[0m                               Traceback (most recent call last)",
      "\u001b[1;32m<ipython-input-456-9e565eba8f0b>\u001b[0m in \u001b[0;36m<module>\u001b[1;34m\u001b[0m\n\u001b[1;32m----> 1\u001b[1;33m \u001b[0mpart1\u001b[0m \u001b[1;33m=\u001b[0m \u001b[0mnp\u001b[0m\u001b[1;33m.\u001b[0m\u001b[0mlinalg\u001b[0m\u001b[1;33m.\u001b[0m\u001b[0minv\u001b[0m\u001b[1;33m(\u001b[0m\u001b[0mnp\u001b[0m\u001b[1;33m.\u001b[0m\u001b[0mdot\u001b[0m\u001b[1;33m(\u001b[0m\u001b[0mnp\u001b[0m\u001b[1;33m.\u001b[0m\u001b[0mtranspose\u001b[0m\u001b[1;33m(\u001b[0m\u001b[0mM\u001b[0m\u001b[1;33m)\u001b[0m\u001b[1;33m,\u001b[0m \u001b[0mM\u001b[0m\u001b[1;33m)\u001b[0m\u001b[1;33m)\u001b[0m\u001b[1;33m\u001b[0m\u001b[1;33m\u001b[0m\u001b[0m\n\u001b[0m\u001b[0;32m      2\u001b[0m \u001b[1;31m#print(part1)\u001b[0m\u001b[1;33m\u001b[0m\u001b[1;33m\u001b[0m\u001b[1;33m\u001b[0m\u001b[0m\n\u001b[0;32m      3\u001b[0m \u001b[0mpart2\u001b[0m \u001b[1;33m=\u001b[0m \u001b[0mnp\u001b[0m\u001b[1;33m.\u001b[0m\u001b[0mdot\u001b[0m\u001b[1;33m(\u001b[0m\u001b[0mpart1\u001b[0m\u001b[1;33m,\u001b[0m \u001b[0mnp\u001b[0m\u001b[1;33m.\u001b[0m\u001b[0mtranspose\u001b[0m\u001b[1;33m(\u001b[0m\u001b[0mM\u001b[0m\u001b[1;33m)\u001b[0m\u001b[1;33m)\u001b[0m\u001b[1;33m\u001b[0m\u001b[1;33m\u001b[0m\u001b[0m\n\u001b[0;32m      4\u001b[0m \u001b[1;31m#print(part2)\u001b[0m\u001b[1;33m\u001b[0m\u001b[1;33m\u001b[0m\u001b[1;33m\u001b[0m\u001b[0m\n\u001b[0;32m      5\u001b[0m \u001b[0mpart3\u001b[0m \u001b[1;33m=\u001b[0m \u001b[0mnp\u001b[0m\u001b[1;33m.\u001b[0m\u001b[0mdot\u001b[0m\u001b[1;33m(\u001b[0m\u001b[0mpart2\u001b[0m\u001b[1;33m,\u001b[0m \u001b[0mU\u001b[0m\u001b[1;33m)\u001b[0m\u001b[1;33m\u001b[0m\u001b[1;33m\u001b[0m\u001b[0m\n",
      "\u001b[1;32m<__array_function__ internals>\u001b[0m in \u001b[0;36minv\u001b[1;34m(*args, **kwargs)\u001b[0m\n",
      "\u001b[1;32m~\\anaconda3\\lib\\site-packages\\numpy\\linalg\\linalg.py\u001b[0m in \u001b[0;36minv\u001b[1;34m(a)\u001b[0m\n\u001b[0;32m    544\u001b[0m     \u001b[0msignature\u001b[0m \u001b[1;33m=\u001b[0m \u001b[1;34m'D->D'\u001b[0m \u001b[1;32mif\u001b[0m \u001b[0misComplexType\u001b[0m\u001b[1;33m(\u001b[0m\u001b[0mt\u001b[0m\u001b[1;33m)\u001b[0m \u001b[1;32melse\u001b[0m \u001b[1;34m'd->d'\u001b[0m\u001b[1;33m\u001b[0m\u001b[1;33m\u001b[0m\u001b[0m\n\u001b[0;32m    545\u001b[0m     \u001b[0mextobj\u001b[0m \u001b[1;33m=\u001b[0m \u001b[0mget_linalg_error_extobj\u001b[0m\u001b[1;33m(\u001b[0m\u001b[0m_raise_linalgerror_singular\u001b[0m\u001b[1;33m)\u001b[0m\u001b[1;33m\u001b[0m\u001b[1;33m\u001b[0m\u001b[0m\n\u001b[1;32m--> 546\u001b[1;33m     \u001b[0mainv\u001b[0m \u001b[1;33m=\u001b[0m \u001b[0m_umath_linalg\u001b[0m\u001b[1;33m.\u001b[0m\u001b[0minv\u001b[0m\u001b[1;33m(\u001b[0m\u001b[0ma\u001b[0m\u001b[1;33m,\u001b[0m \u001b[0msignature\u001b[0m\u001b[1;33m=\u001b[0m\u001b[0msignature\u001b[0m\u001b[1;33m,\u001b[0m \u001b[0mextobj\u001b[0m\u001b[1;33m=\u001b[0m\u001b[0mextobj\u001b[0m\u001b[1;33m)\u001b[0m\u001b[1;33m\u001b[0m\u001b[1;33m\u001b[0m\u001b[0m\n\u001b[0m\u001b[0;32m    547\u001b[0m     \u001b[1;32mreturn\u001b[0m \u001b[0mwrap\u001b[0m\u001b[1;33m(\u001b[0m\u001b[0mainv\u001b[0m\u001b[1;33m.\u001b[0m\u001b[0mastype\u001b[0m\u001b[1;33m(\u001b[0m\u001b[0mresult_t\u001b[0m\u001b[1;33m,\u001b[0m \u001b[0mcopy\u001b[0m\u001b[1;33m=\u001b[0m\u001b[1;32mFalse\u001b[0m\u001b[1;33m)\u001b[0m\u001b[1;33m)\u001b[0m\u001b[1;33m\u001b[0m\u001b[1;33m\u001b[0m\u001b[0m\n\u001b[0;32m    548\u001b[0m \u001b[1;33m\u001b[0m\u001b[0m\n",
      "\u001b[1;32m~\\anaconda3\\lib\\site-packages\\numpy\\linalg\\linalg.py\u001b[0m in \u001b[0;36m_raise_linalgerror_singular\u001b[1;34m(err, flag)\u001b[0m\n\u001b[0;32m     86\u001b[0m \u001b[1;33m\u001b[0m\u001b[0m\n\u001b[0;32m     87\u001b[0m \u001b[1;32mdef\u001b[0m \u001b[0m_raise_linalgerror_singular\u001b[0m\u001b[1;33m(\u001b[0m\u001b[0merr\u001b[0m\u001b[1;33m,\u001b[0m \u001b[0mflag\u001b[0m\u001b[1;33m)\u001b[0m\u001b[1;33m:\u001b[0m\u001b[1;33m\u001b[0m\u001b[1;33m\u001b[0m\u001b[0m\n\u001b[1;32m---> 88\u001b[1;33m     \u001b[1;32mraise\u001b[0m \u001b[0mLinAlgError\u001b[0m\u001b[1;33m(\u001b[0m\u001b[1;34m\"Singular matrix\"\u001b[0m\u001b[1;33m)\u001b[0m\u001b[1;33m\u001b[0m\u001b[1;33m\u001b[0m\u001b[0m\n\u001b[0m\u001b[0;32m     89\u001b[0m \u001b[1;33m\u001b[0m\u001b[0m\n\u001b[0;32m     90\u001b[0m \u001b[1;32mdef\u001b[0m \u001b[0m_raise_linalgerror_nonposdef\u001b[0m\u001b[1;33m(\u001b[0m\u001b[0merr\u001b[0m\u001b[1;33m,\u001b[0m \u001b[0mflag\u001b[0m\u001b[1;33m)\u001b[0m\u001b[1;33m:\u001b[0m\u001b[1;33m\u001b[0m\u001b[1;33m\u001b[0m\u001b[0m\n",
      "\u001b[1;31mLinAlgError\u001b[0m: Singular matrix"
     ]
    }
   ],
   "source": [
    "part1 = np.linalg.inv(np.dot(np.transpose(M), M))\n",
    "#print(part1)\n",
    "part2 = np.dot(part1, np.transpose(M))\n",
    "#print(part2)\n",
    "part3 = np.dot(part2, U)\n",
    "print(part3)"
   ]
  },
  {
   "cell_type": "markdown",
   "id": "ac8dc18c",
   "metadata": {},
   "source": [
    "# Final Approach 2"
   ]
  },
  {
   "cell_type": "code",
   "execution_count": 808,
   "id": "b1c302e5",
   "metadata": {},
   "outputs": [],
   "source": [
    "def create_M_and_U(ul, vl): \n",
    "    \n",
    "    fx=fy=1276\n",
    "    ox = 0\n",
    "    oy = (0.7 * 10e-3) / (3.45 * 10e-6) \n",
    "    #oy = 0.7\n",
    "    \n",
    "    M = np.array([[fx, 0, ox],\n",
    "             [0, fy, oy]])\n",
    "\n",
    "    U = np.array([[ul],\n",
    "                 [vl]])\n",
    "    \n",
    "    return M, U"
   ]
  },
  {
   "cell_type": "code",
   "execution_count": 809,
   "id": "35bf309f",
   "metadata": {},
   "outputs": [],
   "source": [
    "def getRotationMatrix(angle_x, angle_y, angle_z):\n",
    "    \"\"\"\n",
    "    Get rotation matrix\n",
    "    :param angle_x: angle around x-axis in deg\n",
    "    :param angle_y: angle around y-axis in deg\n",
    "    :param angle_z: angle around z-axis in deg\n",
    "    :return: 4x4 rotation matrix\n",
    "    \"\"\"\n",
    "    alpha_x = angle_x * np.pi / 180.\n",
    "    alpha_y = angle_y * np.pi / 180.\n",
    "    alpha_z = angle_z * np.pi / 180.\n",
    "    R = np.eye(3)\n",
    "    from transforms3d.euler import euler2mat\n",
    "    R[:3, :3] = euler2mat(alpha_x, alpha_y, alpha_z, 'rxyz')\n",
    "    #print(R)\n",
    "    return R "
   ]
  },
  {
   "cell_type": "code",
   "execution_count": 810,
   "id": "959c6c4e",
   "metadata": {},
   "outputs": [],
   "source": [
    "#del_pitch = 0.298898-0.248005\n",
    "#del_yaw = 33.189356-33.188885\n",
    "#del_roll = 0.580906-0.768883\n",
    "\n",
    "#del_pitch = -0.033587-0.363400\n",
    "#del_yaw = -44.737167--42.806645\n",
    "#del_roll = 2.408292-2.443800\n",
    "\n",
    "del_pitch = 0.850888-0.384956\n",
    "del_yaw = -106.219010--108.776382\n",
    "del_roll = 3.709673-3.772193\n",
    "\n",
    "#R = getRotationMatrix(del_pitch, del_yaw, del_roll)\n",
    "#R = getRotationMatrix(-0.240048, 167.256339, 0.324172)"
   ]
  },
  {
   "cell_type": "code",
   "execution_count": null,
   "id": "b505625d",
   "metadata": {},
   "outputs": [],
   "source": [
    "# def calculate_depth_(del_pitch, del_yaw, del_roll):\n",
    "    \n",
    "    ul = x_center_p_l\n",
    "    vl = y_center_p_l\n",
    "    ur = x_center_p_r\n",
    "    vr = y_center_p_r\n",
    "\n",
    "    M, U = create_M_and_U(ul, vl)\n",
    "    R = getRotationMatrix(del_pitch, del_yaw, del_roll)\n",
    "    P = np.dot(M, R)\n",
    "    #print(P)\n",
    "    part1 = np.linalg.inv(np.dot(np.transpose(P), P))\n",
    "    #print(part1)\n",
    "    part2 = np.dot(part1, np.transpose(P))\n",
    "    #print(part2)\n",
    "    part3 = np.dot(part2, U)\n",
    "    print(part3[2])\n",
    "    \n",
    "    return part3[2]"
   ]
  },
  {
   "cell_type": "code",
   "execution_count": 812,
   "id": "13892d96",
   "metadata": {},
   "outputs": [
    {
     "name": "stdout",
     "output_type": "stream",
     "text": [
      "[9.30098438]\n"
     ]
    }
   ],
   "source": [
    "depth = calculate_depth_(del_pitch, del_yaw, del_roll)"
   ]
  },
  {
   "cell_type": "markdown",
   "id": "f5070c2b",
   "metadata": {},
   "source": [
    "# Another Dataset"
   ]
  },
  {
   "cell_type": "code",
   "execution_count": 4,
   "id": "440f6c4a",
   "metadata": {},
   "outputs": [],
   "source": [
    "book2_path = r'D:\\Distance Measurement\\More New Data\\NL-EDEE-150611.DataPackage.csv'\n",
    "df_book2 = pd.read_csv(book2_path)"
   ]
  },
  {
   "cell_type": "code",
   "execution_count": 5,
   "id": "1c8aff40",
   "metadata": {},
   "outputs": [
    {
     "data": {
      "text/plain": [
       "(101333, 28)"
      ]
     },
     "execution_count": 5,
     "metadata": {},
     "output_type": "execute_result"
    }
   ],
   "source": [
    "df_book2.shape"
   ]
  },
  {
   "cell_type": "code",
   "execution_count": null,
   "id": "849108bf",
   "metadata": {},
   "outputs": [],
   "source": []
  },
  {
   "cell_type": "code",
   "execution_count": 26,
   "id": "11884956",
   "metadata": {},
   "outputs": [
    {
     "name": "stdout",
     "output_type": "stream",
     "text": [
      "ns1:ExpiryPolygon           POLYGON ((5.5468710879412866 52.11133405934286...\n",
      "ns1:HasDepthMaps                                                        False\n",
      "ns1:Name                                                       NL-EDEE-150611\n",
      "ns1:ExpiredAt                                                  5/31/2016 0:00\n",
      "ns1:GroundLevelOffset                                                 2.10544\n",
      "ns1:Height                                                          61.412424\n",
      "ns1:HeightPrecision                                                     0.023\n",
      "ns1:ImageId                                                          5D3E6DH2\n",
      "ns1:Images                                                                NaN\n",
      "ns1:JpgQuality                                                             70\n",
      "ns1:Latitude                                                        52.052726\n",
      "ns1:LatitudePrecision                                                   0.011\n",
      "ns1:Longitude                                                        5.649435\n",
      "ns1:LongitudePrecision                                                  0.013\n",
      "ns1:Orientation                                                    359.999995\n",
      "ns1:OrientationPrecision                                                0.023\n",
      "ns1:ProductType                                                     Cyclorama\n",
      "ns2:DateTime                                          2015-04-28T06:54:52.58Z\n",
      "ns2:OffsetMinutes                                                         120\n",
      "ns1:RecorderDirection                                               -6.659917\n",
      "ns1:RecorderGeneration                                                  DCR10\n",
      "ns1:RecordingSystem                                                      00IT\n",
      "ns1:SRID                                                                 4258\n",
      "ns1:SystemCalibration                                                    00TP\n",
      "ns1:TileSchema                                                              1\n",
      "ns1:Special                                                             False\n",
      "ns1:Year                                                                 2015\n",
      "ns1:GeneratedAt                                  2021-01-06T09:20:54.0732896Z\n",
      "Name: 20, dtype: object\n",
      "ns1:ExpiryPolygon           POLYGON ((5.5468710879412866 52.11133405934286...\n",
      "ns1:HasDepthMaps                                                        False\n",
      "ns1:Name                                                       NL-EDEE-150611\n",
      "ns1:ExpiredAt                                                  5/31/2016 0:00\n",
      "ns1:GroundLevelOffset                                                 2.10544\n",
      "ns1:Height                                                          56.303998\n",
      "ns1:HeightPrecision                                                     0.007\n",
      "ns1:ImageId                                                          5D3E6EHX\n",
      "ns1:Images                                                                NaN\n",
      "ns1:JpgQuality                                                             70\n",
      "ns1:Latitude                                                        52.066151\n",
      "ns1:LatitudePrecision                                                0.005001\n",
      "ns1:Longitude                                                        5.614789\n",
      "ns1:LongitudePrecision                                               0.004003\n",
      "ns1:Orientation                                                    359.999995\n",
      "ns1:OrientationPrecision                                                0.007\n",
      "ns1:ProductType                                                     Cyclorama\n",
      "ns2:DateTime                                          2015-04-28T07:06:14.19Z\n",
      "ns2:OffsetMinutes                                                         120\n",
      "ns1:RecorderDirection                                             -102.428044\n",
      "ns1:RecorderGeneration                                                  DCR10\n",
      "ns1:RecordingSystem                                                      00IT\n",
      "ns1:SRID                                                                 4258\n",
      "ns1:SystemCalibration                                                    00TP\n",
      "ns1:TileSchema                                                              1\n",
      "ns1:Special                                                             False\n",
      "ns1:Year                                                                 2015\n",
      "ns1:GeneratedAt                                  2021-01-06T09:20:54.0732896Z\n",
      "Name: 250, dtype: object\n"
     ]
    }
   ],
   "source": [
    "a1 = df_book2.iloc[20]\n",
    "a2 =  df_book2.iloc[250]\n",
    "\n",
    "print(a1)\n",
    "print(a2)"
   ]
  },
  {
   "cell_type": "code",
   "execution_count": 117,
   "id": "a8d74736",
   "metadata": {},
   "outputs": [
    {
     "name": "stdout",
     "output_type": "stream",
     "text": [
      "1293\n"
     ]
    }
   ],
   "source": [
    "def find_through_substring(substring):\n",
    "    #count = 0\n",
    "    for index, row in df_book2.iterrows():\n",
    "        fullstring = row['ns1:ImageId']\n",
    "        #substring = '5D3E86'\n",
    "\n",
    "        if substring in fullstring:\n",
    "            #print(\"Found!\")\n",
    "            #count+=1\n",
    "            a = df_book2.iloc[index]\n",
    "\n",
    "    print(count)"
   ]
  },
  {
   "cell_type": "code",
   "execution_count": 119,
   "id": "388a02d0",
   "metadata": {},
   "outputs": [],
   "source": [
    "def find_through_id(ID):\n",
    "    #count = 0\n",
    "    for index, row in df_book2.iterrows():\n",
    "\n",
    "        if row['ns1:ImageId'] == ID:\n",
    "            #print(\"Found!\")\n",
    "            #count+=1\n",
    "            a = df_book2.iloc[index]\n",
    "\n",
    "    print(a)"
   ]
  },
  {
   "cell_type": "code",
   "execution_count": 296,
   "id": "460066f4",
   "metadata": {},
   "outputs": [
    {
     "name": "stdout",
     "output_type": "stream",
     "text": [
      "ns1:ExpiryPolygon           POLYGON ((5.5468710879412866 52.11133405934286...\n",
      "ns1:HasDepthMaps                                                        False\n",
      "ns1:Name                                                       NL-EDEE-150611\n",
      "ns1:ExpiredAt                                                  5/31/2016 0:00\n",
      "ns1:GroundLevelOffset                                                 2.10544\n",
      "ns1:Height                                                          73.127911\n",
      "ns1:HeightPrecision                                                     0.016\n",
      "ns1:ImageId                                                          5D3E86SX\n",
      "ns1:Images                                                                NaN\n",
      "ns1:JpgQuality                                                             70\n",
      "ns1:Latitude                                                        52.070351\n",
      "ns1:LatitudePrecision                                                0.007005\n",
      "ns1:Longitude                                                        5.790686\n",
      "ns1:LongitudePrecision                                               0.006004\n",
      "ns1:Orientation                                                    359.999993\n",
      "ns1:OrientationPrecision                                                0.016\n",
      "ns1:ProductType                                                     Cyclorama\n",
      "ns2:DateTime                                          2015-04-24T07:40:30.55Z\n",
      "ns2:OffsetMinutes                                                         120\n",
      "ns1:RecorderDirection                                              -23.997925\n",
      "ns1:RecorderGeneration                                                  DCR10\n",
      "ns1:RecordingSystem                                                      00IT\n",
      "ns1:SRID                                                                 4258\n",
      "ns1:SystemCalibration                                                    00TP\n",
      "ns1:TileSchema                                                              1\n",
      "ns1:Special                                                             False\n",
      "ns1:Year                                                                 2015\n",
      "ns1:GeneratedAt                                  2021-01-06T09:20:54.0732896Z\n",
      "Name: 23147, dtype: object\n"
     ]
    }
   ],
   "source": [
    "find_through_id('5D3E86SX')"
   ]
  },
  {
   "cell_type": "code",
   "execution_count": 5,
   "id": "a0fb9150",
   "metadata": {},
   "outputs": [],
   "source": [
    "def calculate_distance_from_latlon(lat1, lon1, lat2, lon2):\n",
    "    R = 6371.0\n",
    "    lat2 = math.radians(lat2)\n",
    "    lon2 = math.radians(lon2)\n",
    "    lat1 = math.radians(lat1)\n",
    "    lon1 = math.radians(lon1)\n",
    "    \n",
    "    dlon = lon2 - lon1\n",
    "    dlat = lat2 - lat1\n",
    "    \n",
    "    a = math.sin(dlat / 2)**2 + math.cos(lat1) * math.cos(lat2) * math.sin(dlon / 2)**2\n",
    "    c = 2 * math.atan2(math.sqrt(a), math.sqrt(1 - a))\n",
    "    distance = R * c * 1000\n",
    "\n",
    "    print('DISTANCE ----', distance)\n",
    "    return distance "
   ]
  },
  {
   "cell_type": "code",
   "execution_count": 342,
   "id": "8b443a4c",
   "metadata": {},
   "outputs": [],
   "source": [
    "def select_images(ID):\n",
    "\n",
    "    images = []\n",
    "\n",
    "    for index, row in df_book2.iterrows():\n",
    "         if row['ns1:ImageId'] == ID:\n",
    "                lat1 = row['ns1:Latitude']\n",
    "                lon1 = row['ns1:Longitude']\n",
    "                break\n",
    "\n",
    "    for index, row in df_book2.iterrows():\n",
    "        lat2 = row['ns1:Latitude']\n",
    "        lon2 = row['ns1:Longitude']\n",
    "\n",
    "        if calculate_distance_from_latlon(lat1, lon1, lat2, lon2) <= 10:\n",
    "            image_id = row['ns1:ImageId']\n",
    "            print(image_id)\n",
    "            images.append(image_id)\n",
    "\n",
    "    return images"
   ]
  },
  {
   "cell_type": "code",
   "execution_count": 374,
   "id": "51b7ddeb",
   "metadata": {},
   "outputs": [
    {
     "name": "stdout",
     "output_type": "stream",
     "text": [
      "5D3E6DXR\n",
      "5D3E6DZD\n",
      "5D3E6E0M\n",
      "5D3E6EM9\n",
      "5D3E6EMI\n"
     ]
    }
   ],
   "source": [
    "images = select_images('5D3E6DZD')"
   ]
  },
  {
   "cell_type": "code",
   "execution_count": 375,
   "id": "77e1af13",
   "metadata": {},
   "outputs": [
    {
     "name": "stdout",
     "output_type": "stream",
     "text": [
      "2\n"
     ]
    }
   ],
   "source": [
    "#for file in os.listdir(base_path):\n",
    "extension = '_1_R_0_0'\n",
    "count = 0\n",
    "\n",
    "for main_id in images:\n",
    "    full_name = main_id + extension + '.jpg'\n",
    "    src_path = os.path.join(r'D:\\Distance Measurement\\More New Data\\5D3E6D', full_name)\n",
    "    des_path = os.path.join(r'D:\\Distance Measurement\\GB71_experimental_data', full_name)\n",
    "    try:\n",
    "        copyfile(src_path, des_path)\n",
    "        count+=1\n",
    "    except: \n",
    "        pass\n",
    "\n",
    "print(count)"
   ]
  },
  {
   "cell_type": "code",
   "execution_count": 338,
   "id": "275e3a9c",
   "metadata": {},
   "outputs": [],
   "source": [
    "for file in os.listdir(r'D:\\Distance Measurement\\More New Data\\5D3E86'):\n",
    "    try:\n",
    "        if file[9] == '1':\n",
    "            full_name = file\n",
    "            src_path = os.path.join(r'D:\\Distance Measurement\\More New Data\\5D3E86', full_name)\n",
    "            des_path = os.path.join(r'D:\\Distance Measurement\\More New Data\\5D3E86_zoomlevel_1', full_name)\n",
    "            copyfile(src_path, des_path)\n",
    "    except:\n",
    "        pass"
   ]
  },
  {
   "cell_type": "code",
   "execution_count": 339,
   "id": "0556a35e",
   "metadata": {},
   "outputs": [],
   "source": [
    "for file in os.listdir(r'D:\\Distance Measurement\\More New Data\\5D3E6D_zoomlevel_1'):\n",
    "    if file[11] == 'U' or file[11] == 'D':\n",
    "        file_path = os.path.join(r'D:\\Distance Measurement\\More New Data\\5D3E6D_zoomlevel_1', file)\n",
    "        os.remove(file_path)"
   ]
  },
  {
   "cell_type": "code",
   "execution_count": 354,
   "id": "b8b10d8c",
   "metadata": {},
   "outputs": [],
   "source": [
    "for file in os.listdir(r'D:\\Distance Measurement\\More New Data\\5D3E6D_zoomlevel_1'):\n",
    "    if file[11] == 'F' or file[11] == 'B':\n",
    "        file_path = os.path.join(r'D:\\Distance Measurement\\More New Data\\5D3E6D_zoomlevel_1', file)\n",
    "        os.remove(file_path)"
   ]
  },
  {
   "cell_type": "markdown",
   "id": "0e0ef99d",
   "metadata": {},
   "source": [
    "# Calculating distance"
   ]
  },
  {
   "cell_type": "code",
   "execution_count": 2,
   "id": "a060673e",
   "metadata": {},
   "outputs": [],
   "source": [
    "def calculate_distance_from_latlon(lat1, lon1, lat2, lon2):\n",
    "    R = 6371.0\n",
    "    lat2 = math.radians(lat2)\n",
    "    lon2 = math.radians(lon2)\n",
    "    lat1 = math.radians(lat1)\n",
    "    lon1 = math.radians(lon1)\n",
    "    \n",
    "    dlon = lon2 - lon1\n",
    "    dlat = lat2 - lat1\n",
    "    \n",
    "    a = math.sin(dlat / 2)**2 + math.cos(lat1) * math.cos(lat2) * math.sin(dlon / 2)**2\n",
    "    c = 2 * math.atan2(math.sqrt(a), math.sqrt(1 - a))\n",
    "    distance = R * c * 1000\n",
    "\n",
    "    print('DISTANCE ----', distance)\n",
    "    return distance \n",
    "\n",
    "def get_names(img_name1, img_name2):\n",
    "\n",
    "    or_name1 = os.path.splitext(img_name1)[0]\n",
    "    or_name2 = os.path.splitext(img_name2)[0]\n",
    "\n",
    "    f_name1 = or_name1 + '.txt'\n",
    "    f_name2 = or_name2 + '.txt'\n",
    "\n",
    "    base_path = r'D:\\Distance Measurement\\GB71_experimental_data'\n",
    "\n",
    "    text_file_path_l = os.path.join(base_path, f_name1)\n",
    "    text_file_path_r = os.path.join(base_path, f_name2)\n",
    "\n",
    "    img_name_l = os.path.join(base_path, img_name1)\n",
    "    img_name_r = os.path.join(base_path, img_name2)\n",
    "    \n",
    "    return text_file_path_l, text_file_path_r, img_name_l, img_name_r\n",
    "\n",
    "def calculating_bbx_pixel(x_center, y_center, width, height, img_dir):\n",
    "    x_min = x_center - width/2\n",
    "    x_max = x_center + width/2\n",
    "    \n",
    "    y_min = y_center - height/2\n",
    "    y_max = y_center + height/2\n",
    "    \n",
    "    im = Image.open(img_dir)\n",
    "    img_width, img_height = im.size\n",
    "    \n",
    "    x_center_p = x_center * img_width\n",
    "    y_center_p = y_center * img_height\n",
    "    \n",
    "    x_min_p = x_min * img_width\n",
    "    x_max_p = x_max * img_width\n",
    "    \n",
    "    y_min_p = y_min * img_height\n",
    "    y_max_p = y_max * img_height\n",
    "    \n",
    "    print('PIXEL PARAMETERS ----', x_center_p, y_center_p, x_min_p, x_max_p, y_min_p, y_max_p)\n",
    "    return x_center_p, y_center_p, x_min_p, x_max_p, y_min_p, y_max_p\n",
    "\n",
    "def get_bbx_param(text_file_path):\n",
    "    file = open(text_file_path)\n",
    "    output_lst = file.read().split(' ')\n",
    "    x_center, y_center, width, height = float(output_lst[1]), float(output_lst[2]), float(output_lst[3]), float(output_lst[4])\n",
    "    \n",
    "    print('ANNOTED PARAMETERS ----', x_center, y_center, width, height)\n",
    "    return x_center, y_center, width, height\n",
    "\n",
    "def calculate_depth(baseline, focal_length, disparity):\n",
    "    depth = baseline * focal_length / disparity\n",
    "    print('DEPTH ----', depth)\n",
    "    return depth"
   ]
  },
  {
   "cell_type": "code",
   "execution_count": 3,
   "id": "5b24c9d6",
   "metadata": {},
   "outputs": [],
   "source": [
    "def find_lat_lon(img1, img2):\n",
    "\n",
    "    a = df_book2.loc[df_book2['ns1:ImageId'] == img1]\n",
    "    lat1 = a.iloc[0]['ns1:Latitude']\n",
    "    lon1 = a.iloc[0]['ns1:Longitude']\n",
    "\n",
    "    b = df_book2.loc[df_book2['ns1:ImageId'] == img2]\n",
    "    lat2 = b.iloc[0]['ns1:Latitude']\n",
    "    lon2 = b.iloc[0]['ns1:Longitude']\n",
    "\n",
    "    \n",
    "    print('Latitude and Longitude ----', lat1, lon1, lat2, lon2)\n",
    "    return lat1, lon1, lat2, lon2"
   ]
  },
  {
   "cell_type": "code",
   "execution_count": 6,
   "id": "bcbd7f86",
   "metadata": {},
   "outputs": [
    {
     "name": "stdout",
     "output_type": "stream",
     "text": [
      "Latitude and Longitude ---- 52.05103566 5.649777467 52.05099106 5.649785372\n"
     ]
    }
   ],
   "source": [
    "img1, img2 = '5D3E6DHC', '5D3E6DHF'\n",
    "lat1, lon1, lat2, lon2 = find_lat_lon(img1, img2)"
   ]
  },
  {
   "cell_type": "code",
   "execution_count": 112,
   "id": "3059dda5",
   "metadata": {},
   "outputs": [
    {
     "name": "stdout",
     "output_type": "stream",
     "text": [
      "DISTANCE ---- 4.999135694714906\n"
     ]
    }
   ],
   "source": [
    "car1_car2 = calculate_distance_from_latlon(lat1, lon1, lat2, lon2)"
   ]
  },
  {
   "cell_type": "code",
   "execution_count": 113,
   "id": "9cb10f6b",
   "metadata": {},
   "outputs": [],
   "source": [
    "text_file_path_l, text_file_path_r, img_name_l, img_name_r = get_names('5D3E6DG9_1_L_0_0.jpg', '5D3E6DGK_1_L_0_0.jpg')"
   ]
  },
  {
   "cell_type": "code",
   "execution_count": 114,
   "id": "c9849d10",
   "metadata": {},
   "outputs": [
    {
     "name": "stdout",
     "output_type": "stream",
     "text": [
      "ANNOTED PARAMETERS ---- 0.859375 0.275 0.167188 0.052703\n",
      "ANNOTED PARAMETERS ---- 0.423438 0.243919 0.18125 0.055405\n",
      "PIXEL PARAMETERS ---- 440.0 140.8 397.199872 482.800128 127.30803200000001 154.291968\n",
      "PIXEL PARAMETERS ---- 216.800256 124.886528 170.40025599999998 263.20025599999997 110.702848 139.070208\n"
     ]
    }
   ],
   "source": [
    "x_center_l, y_center_l, width_l, height_l = get_bbx_param(text_file_path_l)\n",
    "\n",
    "x_center_r, y_center_r, width_r, height_r = get_bbx_param(text_file_path_r)\n",
    "\n",
    "x_center_p_l, y_center_p_l, x_min_p_l, x_max_p_l, y_min_p_l, y_max_p_l = calculating_bbx_pixel(x_center_l, y_center_l, \n",
    "                                                                                               width_l, height_l, img_name_l)\n",
    "\n",
    "x_center_p_r, y_center_p_r, x_min_p_r, x_max_p_r, y_min_p_r, y_max_p_r = calculating_bbx_pixel(x_center_r, y_center_r,\n",
    "                                                                                               width_r, height_r, img_name_r)"
   ]
  },
  {
   "cell_type": "code",
   "execution_count": 115,
   "id": "68bb424b",
   "metadata": {},
   "outputs": [
    {
     "name": "stdout",
     "output_type": "stream",
     "text": [
      "DEPTH ---- 7.413601311973878\n"
     ]
    }
   ],
   "source": [
    "disparity = abs(x_center_p_l - x_center_p_r)\n",
    "#disparity = ( (x_center_p_r - x_center_p_l)**2 + (y_center_p_r - y_center_p_l)**2 )**0.5\n",
    "baseline = car1_car2\n",
    "focal_length = 331\n",
    "\n",
    "depth = calculate_depth(baseline, focal_length, disparity)\n",
    "\n",
    "#disparity = abs(y_center_p_l - y_center_p_r)\n",
    "#baseline = car1_car2\n",
    "#focal_length = 200\n",
    "#depth2 = calculate_depth(baseline, focal_length, disparity)"
   ]
  },
  {
   "cell_type": "markdown",
   "id": "afb115b3",
   "metadata": {},
   "source": [
    "blue rectangle direction '5D3E6DG9_1_L_0_0.jpg', '5D3E6DGK_1_L_0_0.jpg', predicted depth 7.4136 actual lat-lon 5.64974889,52.05072784 or 5.64974348,52.05075051 actual depth 5.5922077400686545 6.772888543134731 or 6.670958231098618 5.801855806302763"
   ]
  },
  {
   "cell_type": "markdown",
   "id": "38fde8b5",
   "metadata": {},
   "source": [
    "blue circle arrow '5D3E6DGJ_1_R_0_0.jpg', '5D3E6DGU_1_R_0_0.jpg', predicted depth 6.4302, actual lat-lon 5.64992839,52.05057752 or 5.64993741,52.05057835 actual depth 5.497322997529235 6.117585805434152 or 6.081166735645593 6.669909764199696"
   ]
  },
  {
   "cell_type": "markdown",
   "id": "cd3c3f2a",
   "metadata": {},
   "source": [
    "yellow rectangle '5D3E6DGZ_1_F_0_0.jpg', '5D3E6DH4_1_F_0_0.jpg', predicted depth 12.258 actual lat-lon 5.6494169,52.0519625 or 5.6495932,52.0520005 actual depth 9.796938998067018 11.362659261002662 or 4.18293683391172 8.574822585154285 "
   ]
  },
  {
   "cell_type": "markdown",
   "id": "a8f328ce",
   "metadata": {},
   "source": [
    "blue rectangle with number '5D3E6DV3_1_L_0_0.jpg', '5D3E6DZR_1_L_0_0.jpg', predicted depth 22.2867  actual lat-lon not given"
   ]
  },
  {
   "cell_type": "markdown",
   "id": "fa9b6d77",
   "metadata": {},
   "source": [
    "blue rectangle with letters '5D3E6DUE_1_L_0_0.jpg', '5D3E6DUF_1_L_0_0.jpg', predicted depth 5.0920 actual lat-lon not given"
   ]
  },
  {
   "cell_type": "markdown",
   "id": "7aabe982",
   "metadata": {},
   "source": [
    "blue rectangle with letters '5D3E6DXR_1_R_0_0.jpg', '5D3E6DZD_1_R_0_0.jpg', predcited depth 12.4099 actual lat-lon not given"
   ]
  },
  {
   "cell_type": "markdown",
   "id": "1fdd6f0a",
   "metadata": {},
   "source": [
    "red-white circle '5D3E86W5_1_R_0_0.jpg', '5D3E86W7_1_R_0_0.jpg', predicted depth 19.9293 actual lat-lon 5.78698403,52.07465817 or 5.78698007,52.07475203 or 5.78704034,52.07475774 actual depth 4.515571392012138 3.7250303186650515 or 6.934797138150207 11.807418501988584 or 9.554322339544193 14.097534075311094"
   ]
  },
  {
   "cell_type": "markdown",
   "id": "c9162400",
   "metadata": {},
   "source": [
    "blue circle cycle '5D3E86VV_1_L_0_0.jpg', '5D3E86WV_1_L_0_0.jpg', predicte depth 21.1151 actual lat-lon 5.78704075,52.07475790 or 5.78698015,52.07475199 actual depth 3.917564192399983 7.310027278536334 or 7.224771034346947 11.422479572234645"
   ]
  },
  {
   "cell_type": "markdown",
   "id": "1abb6501",
   "metadata": {},
   "source": [
    "red-white triangle '5D3E86S6_1_F_0_0.jpg', '5D3E86SX_1_F_0_0.jpg', predicted depth 16.3096 actual lat-lon 5.79070836,52.07039195 actual depth 9.118172630302112 4.77951899719373"
   ]
  },
  {
   "cell_type": "markdown",
   "id": "7e2ea44e",
   "metadata": {},
   "source": [
    "blue cycle cricle '5D3E86VA_1_F_0_0.jpg', '5D3E86W5_1_F_0_0.jpg', predicted depth 7.2535  actual lat-lon 5.78697995,52.07475200 or 5.78704036,52.07475809 or 5.786984627,52.074658819 actual depth 4.731608970811914 6.929120553111164 or 5.132760530108637 9.58473162912557 or 6.548073194765489 4.476479189220717"
   ]
  },
  {
   "cell_type": "markdown",
   "id": "7392b234",
   "metadata": {},
   "source": [
    "red-white zigzag road triangle '5D3E86ZL_1_F_0_0.jpg', '5D3E86ZK_1_F_0_0.jpg', predicted depth 79.30742488658758 actual lat-lon 5.78170726,52.07983704 actual depth 17.596809842161534 12.725538932772924"
   ]
  },
  {
   "cell_type": "markdown",
   "id": "a622c866",
   "metadata": {},
   "source": [
    "blue cycle circle '5D3E86W7_1_R_0_0.jpg', '5D3E86X2_1_R_0_0.jpg', predicted depth 8.269025458248109 actual lat-lon 5.78698582,52.07465958 actual depth 3.883108703041328 8.85660699655688"
   ]
  },
  {
   "cell_type": "markdown",
   "id": "31355b2d",
   "metadata": {},
   "source": [
    "blue rectangle tri-direction '5D3E6DGZ_1_L_0_0.jpg', '5D3E6DHA_1_L_0_0.jpg', predicted depth 11.6745 actual lat-lon 5.64941695,52.05196215 actual depth 9.79647403069231 10.624496763081734"
   ]
  },
  {
   "cell_type": "markdown",
   "id": "c6be6123",
   "metadata": {},
   "source": [
    "blue-white i icon rectangle '5D3E6DHC_1_R_0_0.jpg', '5D3E6DHF_1_R_0_0.jpg', predicted depth 4.4693 actual lat-lon 5.64983258,52.05101765 actual depth 4.267691661603979 4.377506038859141"
   ]
  },
  {
   "cell_type": "code",
   "execution_count": 118,
   "id": "9a0a698c",
   "metadata": {},
   "outputs": [],
   "source": [
    "actual_lon, actual_lat = 5.64974348,52.05075051"
   ]
  },
  {
   "cell_type": "code",
   "execution_count": 119,
   "id": "0ea0b69d",
   "metadata": {},
   "outputs": [
    {
     "name": "stdout",
     "output_type": "stream",
     "text": [
      "DISTANCE ---- 6.670958231098618\n",
      "DISTANCE ---- 5.801855806302763\n",
      "6.670958231098618 5.801855806302763\n"
     ]
    }
   ],
   "source": [
    "car1_obj = calculate_distance_from_latlon(actual_lat, actual_lon, lat1, lon1)\n",
    "car2_obj = calculate_distance_from_latlon(actual_lat, actual_lon, lat2, lon2)\n",
    "print(car1_obj, car2_obj)"
   ]
  },
  {
   "cell_type": "markdown",
   "id": "f48bb723",
   "metadata": {},
   "source": [
    "# Correcting Depth"
   ]
  },
  {
   "cell_type": "code",
   "execution_count": 119,
   "id": "85ab67d2",
   "metadata": {},
   "outputs": [
    {
     "name": "stdout",
     "output_type": "stream",
     "text": [
      "-5.928439003 -6.202318999\n"
     ]
    }
   ],
   "source": [
    "a = df_book2.loc[df_book2['ns1:ImageId'] == img1]\n",
    "yaw1 = a.iloc[0]['ns1:RecorderDirection']\n",
    "a = df_book2.loc[df_book2['ns1:ImageId'] == img2]\n",
    "yaw2 = a.iloc[0]['ns1:RecorderDirection']\n",
    "print(yaw1, yaw2)\n",
    "#print(a.iloc[0])\n",
    "#'5D3E6DGJ', '5D3E6DGU'"
   ]
  },
  {
   "cell_type": "code",
   "execution_count": 124,
   "id": "eb91ee2c",
   "metadata": {},
   "outputs": [
    {
     "data": {
      "text/plain": [
       "-0.307742613345779"
      ]
     },
     "execution_count": 124,
     "metadata": {},
     "output_type": "execute_result"
    }
   ],
   "source": [
    "ur = x_center_p_r\n",
    "vr = y_center_p_r\n",
    "b = car1_car2\n",
    "d = x_center_p_l - x_center_p_r\n",
    "ox = 0\n",
    "z = depth\n",
    "del_yaw = math.radians(yaw1 - yaw2)\n",
    "#del_yaw = yaw1- yaw2\n",
    "\n",
    "x2 = b*(ur-ox)/d\n",
    "#x2\n",
    "\n",
    "corrected_depth = - ( (1+x2) * z * z * del_yaw ) / b \n",
    "corrected_depth"
   ]
  },
  {
   "cell_type": "code",
   "execution_count": 125,
   "id": "585256a9",
   "metadata": {},
   "outputs": [
    {
     "data": {
      "text/plain": [
       "-0.022545756010011582"
      ]
     },
     "execution_count": 125,
     "metadata": {},
     "output_type": "execute_result"
    }
   ],
   "source": [
    "corrected_depth = - x2 * x2 * del_yaw / b \n",
    "corrected_depth"
   ]
  },
  {
   "cell_type": "markdown",
   "id": "0a3ff54b",
   "metadata": {},
   "source": [
    "# Trying to project"
   ]
  },
  {
   "cell_type": "code",
   "execution_count": 40,
   "id": "c2877059",
   "metadata": {},
   "outputs": [
    {
     "ename": "ValueError",
     "evalue": "math domain error",
     "output_type": "error",
     "traceback": [
      "\u001b[1;31m---------------------------------------------------------------------------\u001b[0m",
      "\u001b[1;31mValueError\u001b[0m                                Traceback (most recent call last)",
      "\u001b[1;32m<ipython-input-40-8fa2f104ec4c>\u001b[0m in \u001b[0;36m<module>\u001b[1;34m\u001b[0m\n\u001b[1;32m----> 1\u001b[1;33m \u001b[0mangle1\u001b[0m \u001b[1;33m=\u001b[0m \u001b[1;36m90\u001b[0m \u001b[1;33m-\u001b[0m \u001b[0mmath\u001b[0m\u001b[1;33m.\u001b[0m\u001b[0mdegrees\u001b[0m\u001b[1;33m(\u001b[0m\u001b[0mmath\u001b[0m\u001b[1;33m.\u001b[0m\u001b[0masin\u001b[0m\u001b[1;33m(\u001b[0m\u001b[0mdepth\u001b[0m \u001b[1;33m/\u001b[0m \u001b[0mcar1_obj\u001b[0m\u001b[1;33m)\u001b[0m\u001b[1;33m)\u001b[0m\u001b[1;33m\u001b[0m\u001b[1;33m\u001b[0m\u001b[0m\n\u001b[0m\u001b[0;32m      2\u001b[0m \u001b[0mangle2\u001b[0m \u001b[1;33m=\u001b[0m \u001b[1;36m90\u001b[0m \u001b[1;33m-\u001b[0m \u001b[0mmath\u001b[0m\u001b[1;33m.\u001b[0m\u001b[0mdegrees\u001b[0m\u001b[1;33m(\u001b[0m\u001b[0mmath\u001b[0m\u001b[1;33m.\u001b[0m\u001b[0masin\u001b[0m\u001b[1;33m(\u001b[0m\u001b[0mdepth\u001b[0m \u001b[1;33m/\u001b[0m \u001b[0mcar2_obj\u001b[0m\u001b[1;33m)\u001b[0m\u001b[1;33m)\u001b[0m\u001b[1;33m\u001b[0m\u001b[1;33m\u001b[0m\u001b[0m\n\u001b[0;32m      3\u001b[0m \u001b[1;33m\u001b[0m\u001b[0m\n\u001b[0;32m      4\u001b[0m \u001b[0mangle1_angle2\u001b[0m \u001b[1;33m=\u001b[0m \u001b[0mabs\u001b[0m\u001b[1;33m(\u001b[0m\u001b[0mangle1\u001b[0m \u001b[1;33m-\u001b[0m \u001b[0mangle2\u001b[0m\u001b[1;33m)\u001b[0m\u001b[1;33m\u001b[0m\u001b[1;33m\u001b[0m\u001b[0m\n\u001b[0;32m      5\u001b[0m \u001b[0mangle1_angle2\u001b[0m\u001b[1;33m\u001b[0m\u001b[1;33m\u001b[0m\u001b[0m\n",
      "\u001b[1;31mValueError\u001b[0m: math domain error"
     ]
    }
   ],
   "source": [
    "angle1 = 90 - math.degrees(math.asin(depth / car1_obj))\n",
    "angle2 = 90 - math.degrees(math.asin(depth / car2_obj))\n",
    "\n",
    "angle1_angle2 = abs(angle1 - angle2)\n",
    "angle1_angle2"
   ]
  },
  {
   "cell_type": "code",
   "execution_count": 49,
   "id": "babcae58",
   "metadata": {},
   "outputs": [
    {
     "name": "stdout",
     "output_type": "stream",
     "text": [
      "6.43021345874569 5.212546044428064\n"
     ]
    }
   ],
   "source": [
    "print(depth, car2_obj)"
   ]
  },
  {
   "cell_type": "code",
   "execution_count": 43,
   "id": "4ee11d14",
   "metadata": {},
   "outputs": [],
   "source": [
    "def angle_From_Coordinate(lat1,  long1,  lat2, long2):\n",
    "    '''\n",
    "    '''\n",
    "    lat2 = math.radians(lat2)\n",
    "    long2 = math.radians(long2)\n",
    "    lat1 = math.radians(lat1)\n",
    "    long1 = math.radians(long1)\n",
    "    '''\n",
    "    '''\n",
    "    dLon = long2 - long1\n",
    "    \n",
    "    y = math.sin(dLon) * math.cos(lat2)\n",
    "    #print(y)\n",
    "    #print(lat2)\n",
    "    #print(dLon)\n",
    "    x = math.cos(lat1) * math.sin(lat2) - math.sin(lat1)* math.cos(lat2) * math.cos(dLon)\n",
    "\n",
    "    angle = math.atan2(y, x)\n",
    "\n",
    "    angle = math.degrees(angle)\n",
    "    angle = (angle + 360) % 360\n",
    "    angle = 360 - angle; # count degrees counter-clockwise - remove to make clockwise\n",
    "\n",
    "    print(angle)\n",
    "    return angle"
   ]
  },
  {
   "cell_type": "code",
   "execution_count": 44,
   "id": "7ff6de81",
   "metadata": {},
   "outputs": [
    {
     "name": "stdout",
     "output_type": "stream",
     "text": [
      "185.72952173498788\n"
     ]
    }
   ],
   "source": [
    "angle = angle_From_Coordinate(lat1, lon1, lat2, lon2)"
   ]
  },
  {
   "cell_type": "code",
   "execution_count": 50,
   "id": "ca03ac8e",
   "metadata": {},
   "outputs": [
    {
     "data": {
      "text/plain": [
       "5.606682992998059"
      ]
     },
     "execution_count": 50,
     "metadata": {},
     "output_type": "execute_result"
    }
   ],
   "source": [
    "dis = ( (x_center_p_r)**2 + (y_center_p_r)**2 )**0.5\n",
    "predicted_car1_obj = (depth*dis)/focal_length\n",
    "predicted_car1_obj"
   ]
  },
  {
   "cell_type": "code",
   "execution_count": null,
   "id": "01f31a81",
   "metadata": {},
   "outputs": [],
   "source": []
  },
  {
   "cell_type": "markdown",
   "id": "4d4fe108",
   "metadata": {},
   "source": [
    "# Using Matrix Calculation"
   ]
  },
  {
   "cell_type": "code",
   "execution_count": 126,
   "id": "4793b071",
   "metadata": {},
   "outputs": [],
   "source": [
    "def create_M_and_U(ul, vl): \n",
    "    \n",
    "    fx=fy=331\n",
    "    ox = 0\n",
    "    #oy = (0.7 * 10e-3) / (3.45 * 10e-6) \n",
    "    oy = 0\n",
    "    \n",
    "    M = np.array([[fx, 0, ox],\n",
    "             [0, fy, oy]])\n",
    "\n",
    "    U = np.array([[ul],\n",
    "                 [vl]])\n",
    "    \n",
    "    return M, U\n",
    "\n",
    "\n",
    "def eulerAnglesToRotationMatrix(theta):\n",
    "    '''\n",
    "    Converts rotation angles about x,y and z axis to a rotation matrix\n",
    "    '''\n",
    "    R_x = np.array([[1, 0, 0],\n",
    "                    [0, math.cos(theta[0]), -math.sin(theta[0])],\n",
    "                    [0, math.sin(theta[0]), math.cos(theta[0])]\n",
    "                    ])\n",
    "\n",
    "    R_y = np.array([[math.cos(theta[1]), 0, math.sin(theta[1])],\n",
    "                    [0, 1, 0],\n",
    "                    [-math.sin(theta[1]), 0, math.cos(theta[1])]\n",
    "                    ])\n",
    "\n",
    "    R_z = np.array([[math.cos(theta[2]), -math.sin(theta[2]), 0],\n",
    "                    [math.sin(theta[2]), math.cos(theta[2]), 0],\n",
    "                    [0, 0, 1]\n",
    "                    ])\n",
    "    R = np.dot(R_z, np.dot(R_y, R_x))\n",
    "    #print(R)\n",
    "    return R\n",
    "\n",
    "def calculate_depth_(del_pitch, del_yaw, del_roll):\n",
    "    \n",
    "    ul = x_center_p_l\n",
    "    vl = y_center_p_l\n",
    "    ur = x_center_p_r\n",
    "    vr = y_center_p_r\n",
    "\n",
    "    M, U = create_M_and_U(ul, vl)\n",
    "    #R = getRotationMatrix(del_pitch, del_yaw, del_roll)\n",
    "    R = eulerAnglesToRotationMatrix([del_pitch, del_yaw, del_roll])\n",
    "    P = np.dot(M, R)\n",
    "    #print(P)\n",
    "    part1 = np.linalg.inv(np.dot(np.transpose(P), P))\n",
    "    #print(part1)\n",
    "    part2 = np.dot(part1, np.transpose(P))\n",
    "    #print(part2)\n",
    "    part3 = np.dot(part2, U)\n",
    "    print(part3)\n",
    "    \n",
    "    return part3[2]"
   ]
  },
  {
   "cell_type": "code",
   "execution_count": 128,
   "id": "fe021ab8",
   "metadata": {},
   "outputs": [
    {
     "name": "stdout",
     "output_type": "stream",
     "text": [
      "0.004780107685548896\n",
      "[[  0.859375  ]\n",
      " [  0.42537764]\n",
      " [220.        ]]\n"
     ]
    },
    {
     "data": {
      "text/plain": [
       "array([220.])"
      ]
     },
     "execution_count": 128,
     "metadata": {},
     "output_type": "execute_result"
    }
   ],
   "source": [
    "del_pitch, del_yaw, del_roll =0, yaw1 - yaw2, 0\n",
    "print(del_yaw)\n",
    "\n",
    "calculate_depth_(del_pitch, del_yaw, del_roll)"
   ]
  },
  {
   "cell_type": "code",
   "execution_count": null,
   "id": "aea427c2",
   "metadata": {},
   "outputs": [],
   "source": [
    "def getRotationMatrix(angle_x, angle_y, angle_z):\n",
    "    \"\"\"\n",
    "    Get rotation matrix\n",
    "    :param angle_x: angle around x-axis in deg\n",
    "    :param angle_y: angle around y-axis in deg\n",
    "    :param angle_z: angle around z-axis in deg\n",
    "    :return: 4x4 rotation matrix\n",
    "    \"\"\"\n",
    "    alpha_x = angle_x * np.pi / 180.\n",
    "    alpha_y = angle_y * np.pi / 180.\n",
    "    alpha_z = angle_z * np.pi / 180.\n",
    "    R = np.eye(3)\n",
    "    from transforms3d.euler import euler2mat\n",
    "    R[:3, :3] = euler2mat(alpha_x, alpha_y, alpha_z, 'rxyz')\n",
    "    #print(R)\n",
    "    return R \n"
   ]
  },
  {
   "cell_type": "code",
   "execution_count": 9,
   "id": "99a85707",
   "metadata": {},
   "outputs": [
    {
     "name": "stdout",
     "output_type": "stream",
     "text": [
      "\n",
      "\n",
      "********\n",
      "\n",
      "********\n",
      "\n",
      "********\n",
      "\n",
      "********\n",
      "\n",
      "********\n",
      "\n",
      "********"
     ]
    }
   ],
   "source": [
    "for i in range(1,7):\n",
    "    print('\\n')\n",
    "    for j in range(1,9):\n",
    "        print('*',end='')\n",
    "        \n",
    "#print(\"Hello there!\", end = '')"
   ]
  },
  {
   "cell_type": "code",
   "execution_count": 8,
   "id": "78c11a4e",
   "metadata": {},
   "outputs": [
    {
     "name": "stdout",
     "output_type": "stream",
     "text": [
      "abc\n"
     ]
    }
   ],
   "source": [
    "print('a', 'b', 'c', sep='')"
   ]
  },
  {
   "cell_type": "code",
   "execution_count": null,
   "id": "d58ee2e4",
   "metadata": {},
   "outputs": [],
   "source": []
  }
 ],
 "metadata": {
  "kernelspec": {
   "display_name": "Python 3",
   "language": "python",
   "name": "python3"
  },
  "language_info": {
   "codemirror_mode": {
    "name": "ipython",
    "version": 3
   },
   "file_extension": ".py",
   "mimetype": "text/x-python",
   "name": "python",
   "nbconvert_exporter": "python",
   "pygments_lexer": "ipython3",
   "version": "3.8.8"
  }
 },
 "nbformat": 4,
 "nbformat_minor": 5
}
